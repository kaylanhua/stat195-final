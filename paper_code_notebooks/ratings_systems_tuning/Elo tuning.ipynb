{
 "cells": [
  {
   "cell_type": "code",
   "execution_count": 1,
   "metadata": {},
   "outputs": [],
   "source": [
    "import numpy as np\n",
    "import pandas as pd\n",
    "import matplotlib.pyplot as plt\n",
    "import matplotlib.colors as colors\n",
    "from timeit import default_timer as timer\n",
    "from multiprocessing import Pool\n",
    "from functools import partial\n",
    "import sys\n",
    "import os\n",
    "\n",
    "module_path = os.path.abspath(os.path.join('..'))\n",
    "if module_path not in sys.path:\n",
    "    sys.path.append(module_path+\"\\\\utilities\")\n",
    "\n",
    "from Elo_optimazation_parameters import run_elo_tuning"
   ]
  },
  {
   "cell_type": "code",
   "execution_count": 2,
   "metadata": {},
   "outputs": [],
   "source": [
    "data = pd.read_csv('../data/preprocess_data.csv',sep = ',')"
   ]
  },
  {
   "cell_type": "code",
   "execution_count": 3,
   "metadata": {},
   "outputs": [
    {
     "data": {
      "text/html": [
       "<div>\n",
       "<style scoped>\n",
       "    .dataframe tbody tr th:only-of-type {\n",
       "        vertical-align: middle;\n",
       "    }\n",
       "\n",
       "    .dataframe tbody tr th {\n",
       "        vertical-align: top;\n",
       "    }\n",
       "\n",
       "    .dataframe thead th {\n",
       "        text-align: right;\n",
       "    }\n",
       "</style>\n",
       "<table border=\"1\" class=\"dataframe\">\n",
       "  <thead>\n",
       "    <tr style=\"text-align: right;\">\n",
       "      <th></th>\n",
       "      <th>Tournament</th>\n",
       "      <th>Home Team</th>\n",
       "      <th>Away Team</th>\n",
       "      <th>Match Date</th>\n",
       "      <th>Winner Team</th>\n",
       "      <th>Winner Home Or Away</th>\n",
       "      <th>Phase</th>\n",
       "      <th>Final Score</th>\n",
       "      <th>Extra Periods</th>\n",
       "      <th>Team</th>\n",
       "      <th>Opponent Team</th>\n",
       "      <th>Team Points</th>\n",
       "      <th>Team Two Pointers Made</th>\n",
       "      <th>Team Two Pointers Attempted</th>\n",
       "      <th>Team Two Pointers Percenage</th>\n",
       "      <th>Team Three Pointers Made</th>\n",
       "      <th>Team Three Pointers Attempted</th>\n",
       "      <th>Team Three Pointers Percenage</th>\n",
       "      <th>Team Free Throws Made</th>\n",
       "      <th>Team Free Throws Attempted</th>\n",
       "      <th>Team Free Throws Percenage</th>\n",
       "      <th>Team Offensive Rebounds</th>\n",
       "      <th>Team Defensive Rebounds</th>\n",
       "      <th>Team Total Rebounds</th>\n",
       "      <th>Team Assists</th>\n",
       "      <th>Team Steals</th>\n",
       "      <th>Team Turnovers</th>\n",
       "      <th>Team Blocks</th>\n",
       "      <th>Team Blocks Against</th>\n",
       "      <th>Team Personal Fouls</th>\n",
       "      <th>Team Fouls Received</th>\n",
       "      <th>Team Performance Index</th>\n",
       "      <th>Opponent Points</th>\n",
       "      <th>Opponent Two Pointers Made</th>\n",
       "      <th>Opponent Two Pointers Attempted</th>\n",
       "      <th>Opponent Two Pointers Percenage</th>\n",
       "      <th>Opponent Three Pointers Made</th>\n",
       "      <th>Opponent Three Pointers Attempted</th>\n",
       "      <th>Opponent Three Pointers Percenage</th>\n",
       "      <th>Opponent Free Throws Made</th>\n",
       "      <th>Opponent Free Throws Attempted</th>\n",
       "      <th>Opponent Free Throws Percenage</th>\n",
       "      <th>Opponent Offensive Rebounds</th>\n",
       "      <th>Opponent Defensive Rebounds</th>\n",
       "      <th>Opponent Total Rebounds</th>\n",
       "      <th>Opponent Assists</th>\n",
       "      <th>Opponent Steals</th>\n",
       "      <th>Opponent Turnovers</th>\n",
       "      <th>Opponent Blocks</th>\n",
       "      <th>Opponent Blocks Against</th>\n",
       "      <th>Opponent Personal Fouls</th>\n",
       "      <th>Opponent Fouls Received</th>\n",
       "      <th>Opponent Performance Index</th>\n",
       "      <th>Team Result</th>\n",
       "      <th>teamFGA</th>\n",
       "      <th>teamFGM</th>\n",
       "      <th>teamTREB%</th>\n",
       "      <th>teamASST%</th>\n",
       "      <th>teamTS%</th>\n",
       "      <th>teamEFG%</th>\n",
       "      <th>teamOREB%</th>\n",
       "      <th>teamDREB%</th>\n",
       "      <th>teamTO%</th>\n",
       "      <th>teamPoss</th>\n",
       "      <th>teamSTL%</th>\n",
       "      <th>teamBLK%</th>\n",
       "      <th>teamBLKR</th>\n",
       "      <th>teamPPS</th>\n",
       "      <th>teamPlay%</th>\n",
       "      <th>teamAR</th>\n",
       "      <th>teamAST/TO</th>\n",
       "      <th>teamSTL/TO</th>\n",
       "      <th>teamFIC</th>\n",
       "      <th>teamOrtg</th>\n",
       "      <th>opptFGA</th>\n",
       "      <th>opptPoss</th>\n",
       "      <th>teamDrtg</th>\n",
       "      <th>teamEDiff</th>\n",
       "      <th>team_Game_Score</th>\n",
       "      <th>opptFGM</th>\n",
       "      <th>opptTREB%</th>\n",
       "      <th>opptASST%</th>\n",
       "      <th>opptTS%</th>\n",
       "      <th>opptEFG%</th>\n",
       "      <th>opptOREB%</th>\n",
       "      <th>opptDREB%</th>\n",
       "      <th>opptTO%</th>\n",
       "      <th>opptSTL%</th>\n",
       "      <th>opptBLK%</th>\n",
       "      <th>opptBLKR</th>\n",
       "      <th>opptPPS</th>\n",
       "      <th>opptFIC</th>\n",
       "      <th>opptOrtg</th>\n",
       "      <th>opptDrtg</th>\n",
       "      <th>opptEDiff</th>\n",
       "      <th>opptPlay%</th>\n",
       "      <th>opptAR</th>\n",
       "      <th>opptAST/TO</th>\n",
       "      <th>opptSTL/TO</th>\n",
       "      <th>oppt_Game_Score</th>\n",
       "      <th>Points difference</th>\n",
       "      <th>Finals</th>\n",
       "      <th>Last 32</th>\n",
       "      <th>Playoffs</th>\n",
       "      <th>Quarter-Finals</th>\n",
       "      <th>Regular Season</th>\n",
       "      <th>Semifinals</th>\n",
       "      <th>Top 16</th>\n",
       "    </tr>\n",
       "  </thead>\n",
       "  <tbody>\n",
       "    <tr>\n",
       "      <th>0</th>\n",
       "      <td>Basket League</td>\n",
       "      <td>KAOD</td>\n",
       "      <td>Aris</td>\n",
       "      <td>2013-10-12</td>\n",
       "      <td>Aris</td>\n",
       "      <td>Away</td>\n",
       "      <td>Regular Season</td>\n",
       "      <td>58-66</td>\n",
       "      <td>0.0</td>\n",
       "      <td>KAOD</td>\n",
       "      <td>Aris</td>\n",
       "      <td>58.0</td>\n",
       "      <td>20.0</td>\n",
       "      <td>43.0</td>\n",
       "      <td>0.46512</td>\n",
       "      <td>1.0</td>\n",
       "      <td>10.0</td>\n",
       "      <td>0.10000</td>\n",
       "      <td>15.0</td>\n",
       "      <td>26.0</td>\n",
       "      <td>0.57692</td>\n",
       "      <td>12.0</td>\n",
       "      <td>22.0</td>\n",
       "      <td>34.0</td>\n",
       "      <td>6.0</td>\n",
       "      <td>6.0</td>\n",
       "      <td>17.0</td>\n",
       "      <td>3.0</td>\n",
       "      <td>3.0</td>\n",
       "      <td>22.0</td>\n",
       "      <td>22.0</td>\n",
       "      <td>40.0</td>\n",
       "      <td>66.0</td>\n",
       "      <td>15.0</td>\n",
       "      <td>33.0</td>\n",
       "      <td>0.45455</td>\n",
       "      <td>9.0</td>\n",
       "      <td>23.0</td>\n",
       "      <td>0.39130</td>\n",
       "      <td>9.0</td>\n",
       "      <td>19.0</td>\n",
       "      <td>0.47368</td>\n",
       "      <td>10.0</td>\n",
       "      <td>18.0</td>\n",
       "      <td>28.0</td>\n",
       "      <td>11.0</td>\n",
       "      <td>8.0</td>\n",
       "      <td>14.0</td>\n",
       "      <td>3.0</td>\n",
       "      <td>3.0</td>\n",
       "      <td>22.0</td>\n",
       "      <td>22.0</td>\n",
       "      <td>57.0</td>\n",
       "      <td>0.0</td>\n",
       "      <td>53.0</td>\n",
       "      <td>21.0</td>\n",
       "      <td>54.838710</td>\n",
       "      <td>28.571429</td>\n",
       "      <td>45.003104</td>\n",
       "      <td>40.566038</td>\n",
       "      <td>40.000000</td>\n",
       "      <td>68.750000</td>\n",
       "      <td>20.874263</td>\n",
       "      <td>69.44</td>\n",
       "      <td>8.640553</td>\n",
       "      <td>4.320276</td>\n",
       "      <td>9.090909</td>\n",
       "      <td>1.094340</td>\n",
       "      <td>36.206897</td>\n",
       "      <td>9.293680</td>\n",
       "      <td>0.352941</td>\n",
       "      <td>0.352941</td>\n",
       "      <td>24.000</td>\n",
       "      <td>83.525346</td>\n",
       "      <td>56.0</td>\n",
       "      <td>68.36</td>\n",
       "      <td>96.547689</td>\n",
       "      <td>-13.022343</td>\n",
       "      <td>26.4</td>\n",
       "      <td>24.0</td>\n",
       "      <td>45.161290</td>\n",
       "      <td>45.833333</td>\n",
       "      <td>51.274083</td>\n",
       "      <td>50.892857</td>\n",
       "      <td>31.250000</td>\n",
       "      <td>60.000000</td>\n",
       "      <td>17.866258</td>\n",
       "      <td>11.702750</td>\n",
       "      <td>4.388531</td>\n",
       "      <td>6.976744</td>\n",
       "      <td>1.178571</td>\n",
       "      <td>37.375</td>\n",
       "      <td>96.547689</td>\n",
       "      <td>83.525346</td>\n",
       "      <td>13.022343</td>\n",
       "      <td>40.000000</td>\n",
       "      <td>15.143172</td>\n",
       "      <td>0.785714</td>\n",
       "      <td>0.571429</td>\n",
       "      <td>39.8</td>\n",
       "      <td>-8.0</td>\n",
       "      <td>0</td>\n",
       "      <td>0</td>\n",
       "      <td>0</td>\n",
       "      <td>0</td>\n",
       "      <td>1</td>\n",
       "      <td>0</td>\n",
       "      <td>0</td>\n",
       "    </tr>\n",
       "    <tr>\n",
       "      <th>1</th>\n",
       "      <td>Basket League</td>\n",
       "      <td>PAOK</td>\n",
       "      <td>Kolossos Rhodes</td>\n",
       "      <td>2013-10-12</td>\n",
       "      <td>PAOK</td>\n",
       "      <td>Home</td>\n",
       "      <td>Regular Season</td>\n",
       "      <td>88-81</td>\n",
       "      <td>0.0</td>\n",
       "      <td>PAOK</td>\n",
       "      <td>Kolossos Rhodes</td>\n",
       "      <td>88.0</td>\n",
       "      <td>17.0</td>\n",
       "      <td>35.0</td>\n",
       "      <td>0.48571</td>\n",
       "      <td>10.0</td>\n",
       "      <td>26.0</td>\n",
       "      <td>0.38462</td>\n",
       "      <td>24.0</td>\n",
       "      <td>26.0</td>\n",
       "      <td>0.92308</td>\n",
       "      <td>9.0</td>\n",
       "      <td>22.0</td>\n",
       "      <td>31.0</td>\n",
       "      <td>22.0</td>\n",
       "      <td>7.0</td>\n",
       "      <td>18.0</td>\n",
       "      <td>3.0</td>\n",
       "      <td>1.0</td>\n",
       "      <td>23.0</td>\n",
       "      <td>23.0</td>\n",
       "      <td>96.0</td>\n",
       "      <td>81.0</td>\n",
       "      <td>26.0</td>\n",
       "      <td>42.0</td>\n",
       "      <td>0.61905</td>\n",
       "      <td>5.0</td>\n",
       "      <td>16.0</td>\n",
       "      <td>0.31250</td>\n",
       "      <td>14.0</td>\n",
       "      <td>21.0</td>\n",
       "      <td>0.66667</td>\n",
       "      <td>6.0</td>\n",
       "      <td>25.0</td>\n",
       "      <td>31.0</td>\n",
       "      <td>5.0</td>\n",
       "      <td>8.0</td>\n",
       "      <td>18.0</td>\n",
       "      <td>1.0</td>\n",
       "      <td>3.0</td>\n",
       "      <td>24.0</td>\n",
       "      <td>22.0</td>\n",
       "      <td>69.0</td>\n",
       "      <td>1.0</td>\n",
       "      <td>61.0</td>\n",
       "      <td>27.0</td>\n",
       "      <td>50.000000</td>\n",
       "      <td>81.481481</td>\n",
       "      <td>60.739923</td>\n",
       "      <td>52.459016</td>\n",
       "      <td>26.470588</td>\n",
       "      <td>78.571429</td>\n",
       "      <td>19.902698</td>\n",
       "      <td>81.44</td>\n",
       "      <td>8.595285</td>\n",
       "      <td>3.683694</td>\n",
       "      <td>7.142857</td>\n",
       "      <td>1.442623</td>\n",
       "      <td>38.571429</td>\n",
       "      <td>24.564538</td>\n",
       "      <td>1.222222</td>\n",
       "      <td>0.388889</td>\n",
       "      <td>60.500</td>\n",
       "      <td>108.055010</td>\n",
       "      <td>58.0</td>\n",
       "      <td>79.24</td>\n",
       "      <td>102.221100</td>\n",
       "      <td>5.833909</td>\n",
       "      <td>65.5</td>\n",
       "      <td>31.0</td>\n",
       "      <td>50.000000</td>\n",
       "      <td>16.129032</td>\n",
       "      <td>60.232005</td>\n",
       "      <td>57.758621</td>\n",
       "      <td>21.428571</td>\n",
       "      <td>73.529412</td>\n",
       "      <td>21.116847</td>\n",
       "      <td>10.095911</td>\n",
       "      <td>1.261989</td>\n",
       "      <td>2.857143</td>\n",
       "      <td>1.396552</td>\n",
       "      <td>38.375</td>\n",
       "      <td>102.221100</td>\n",
       "      <td>108.055010</td>\n",
       "      <td>-5.833909</td>\n",
       "      <td>44.285714</td>\n",
       "      <td>6.967670</td>\n",
       "      <td>0.277778</td>\n",
       "      <td>0.444444</td>\n",
       "      <td>46.3</td>\n",
       "      <td>7.0</td>\n",
       "      <td>0</td>\n",
       "      <td>0</td>\n",
       "      <td>0</td>\n",
       "      <td>0</td>\n",
       "      <td>1</td>\n",
       "      <td>0</td>\n",
       "      <td>0</td>\n",
       "    </tr>\n",
       "    <tr>\n",
       "      <th>2</th>\n",
       "      <td>Liga ACB</td>\n",
       "      <td>Bilbao</td>\n",
       "      <td>Zaragoza</td>\n",
       "      <td>2013-10-12</td>\n",
       "      <td>Zaragoza</td>\n",
       "      <td>Away</td>\n",
       "      <td>Regular Season</td>\n",
       "      <td>77-86</td>\n",
       "      <td>0.0</td>\n",
       "      <td>Bilbao</td>\n",
       "      <td>Zaragoza</td>\n",
       "      <td>77.0</td>\n",
       "      <td>24.0</td>\n",
       "      <td>46.0</td>\n",
       "      <td>0.52000</td>\n",
       "      <td>5.0</td>\n",
       "      <td>12.0</td>\n",
       "      <td>0.42000</td>\n",
       "      <td>14.0</td>\n",
       "      <td>20.0</td>\n",
       "      <td>0.70000</td>\n",
       "      <td>13.0</td>\n",
       "      <td>19.0</td>\n",
       "      <td>32.0</td>\n",
       "      <td>15.0</td>\n",
       "      <td>7.0</td>\n",
       "      <td>12.0</td>\n",
       "      <td>1.0</td>\n",
       "      <td>1.0</td>\n",
       "      <td>18.0</td>\n",
       "      <td>23.0</td>\n",
       "      <td>89.0</td>\n",
       "      <td>86.0</td>\n",
       "      <td>25.0</td>\n",
       "      <td>39.0</td>\n",
       "      <td>0.64000</td>\n",
       "      <td>10.0</td>\n",
       "      <td>23.0</td>\n",
       "      <td>0.43000</td>\n",
       "      <td>6.0</td>\n",
       "      <td>10.0</td>\n",
       "      <td>0.60000</td>\n",
       "      <td>9.0</td>\n",
       "      <td>20.0</td>\n",
       "      <td>29.0</td>\n",
       "      <td>16.0</td>\n",
       "      <td>10.0</td>\n",
       "      <td>10.0</td>\n",
       "      <td>1.0</td>\n",
       "      <td>1.0</td>\n",
       "      <td>23.0</td>\n",
       "      <td>18.0</td>\n",
       "      <td>95.0</td>\n",
       "      <td>0.0</td>\n",
       "      <td>58.0</td>\n",
       "      <td>29.0</td>\n",
       "      <td>52.459016</td>\n",
       "      <td>51.724138</td>\n",
       "      <td>57.634731</td>\n",
       "      <td>54.310345</td>\n",
       "      <td>39.393939</td>\n",
       "      <td>67.857143</td>\n",
       "      <td>15.228426</td>\n",
       "      <td>65.80</td>\n",
       "      <td>10.638298</td>\n",
       "      <td>1.519757</td>\n",
       "      <td>2.564103</td>\n",
       "      <td>1.327586</td>\n",
       "      <td>50.877193</td>\n",
       "      <td>19.685039</td>\n",
       "      <td>1.250000</td>\n",
       "      <td>0.583333</td>\n",
       "      <td>55.250</td>\n",
       "      <td>117.021277</td>\n",
       "      <td>62.0</td>\n",
       "      <td>67.40</td>\n",
       "      <td>127.596439</td>\n",
       "      <td>-10.575163</td>\n",
       "      <td>59.4</td>\n",
       "      <td>35.0</td>\n",
       "      <td>47.540984</td>\n",
       "      <td>45.714286</td>\n",
       "      <td>64.759036</td>\n",
       "      <td>64.516129</td>\n",
       "      <td>32.142857</td>\n",
       "      <td>60.606061</td>\n",
       "      <td>13.089005</td>\n",
       "      <td>14.836795</td>\n",
       "      <td>1.483680</td>\n",
       "      <td>2.173913</td>\n",
       "      <td>1.387097</td>\n",
       "      <td>65.250</td>\n",
       "      <td>127.596439</td>\n",
       "      <td>117.021277</td>\n",
       "      <td>10.575163</td>\n",
       "      <td>55.555556</td>\n",
       "      <td>19.138756</td>\n",
       "      <td>1.600000</td>\n",
       "      <td>1.000000</td>\n",
       "      <td>70.0</td>\n",
       "      <td>-9.0</td>\n",
       "      <td>0</td>\n",
       "      <td>0</td>\n",
       "      <td>0</td>\n",
       "      <td>0</td>\n",
       "      <td>1</td>\n",
       "      <td>0</td>\n",
       "      <td>0</td>\n",
       "    </tr>\n",
       "    <tr>\n",
       "      <th>3</th>\n",
       "      <td>Basket League</td>\n",
       "      <td>Trikala</td>\n",
       "      <td>Kifisia</td>\n",
       "      <td>2013-10-12</td>\n",
       "      <td>Kifisia</td>\n",
       "      <td>Away</td>\n",
       "      <td>Regular Season</td>\n",
       "      <td>64-69</td>\n",
       "      <td>0.0</td>\n",
       "      <td>Trikala</td>\n",
       "      <td>Kifisia</td>\n",
       "      <td>64.0</td>\n",
       "      <td>21.0</td>\n",
       "      <td>41.0</td>\n",
       "      <td>0.51220</td>\n",
       "      <td>5.0</td>\n",
       "      <td>14.0</td>\n",
       "      <td>0.35714</td>\n",
       "      <td>7.0</td>\n",
       "      <td>18.0</td>\n",
       "      <td>0.38889</td>\n",
       "      <td>9.0</td>\n",
       "      <td>19.0</td>\n",
       "      <td>27.0</td>\n",
       "      <td>15.0</td>\n",
       "      <td>5.0</td>\n",
       "      <td>15.0</td>\n",
       "      <td>3.0</td>\n",
       "      <td>0.0</td>\n",
       "      <td>23.0</td>\n",
       "      <td>24.0</td>\n",
       "      <td>62.0</td>\n",
       "      <td>69.0</td>\n",
       "      <td>14.0</td>\n",
       "      <td>28.0</td>\n",
       "      <td>0.50000</td>\n",
       "      <td>9.0</td>\n",
       "      <td>28.0</td>\n",
       "      <td>0.32143</td>\n",
       "      <td>14.0</td>\n",
       "      <td>23.0</td>\n",
       "      <td>0.60870</td>\n",
       "      <td>11.0</td>\n",
       "      <td>22.0</td>\n",
       "      <td>33.0</td>\n",
       "      <td>17.0</td>\n",
       "      <td>4.0</td>\n",
       "      <td>16.0</td>\n",
       "      <td>0.0</td>\n",
       "      <td>3.0</td>\n",
       "      <td>24.0</td>\n",
       "      <td>23.0</td>\n",
       "      <td>62.0</td>\n",
       "      <td>0.0</td>\n",
       "      <td>55.0</td>\n",
       "      <td>26.0</td>\n",
       "      <td>45.000000</td>\n",
       "      <td>57.692308</td>\n",
       "      <td>50.858233</td>\n",
       "      <td>51.818182</td>\n",
       "      <td>29.032258</td>\n",
       "      <td>63.333333</td>\n",
       "      <td>19.250513</td>\n",
       "      <td>68.92</td>\n",
       "      <td>7.254788</td>\n",
       "      <td>4.352873</td>\n",
       "      <td>10.714286</td>\n",
       "      <td>1.163636</td>\n",
       "      <td>42.622951</td>\n",
       "      <td>19.460301</td>\n",
       "      <td>1.000000</td>\n",
       "      <td>0.333333</td>\n",
       "      <td>35.750</td>\n",
       "      <td>92.861288</td>\n",
       "      <td>56.0</td>\n",
       "      <td>71.12</td>\n",
       "      <td>97.019123</td>\n",
       "      <td>-4.157834</td>\n",
       "      <td>36.9</td>\n",
       "      <td>23.0</td>\n",
       "      <td>55.000000</td>\n",
       "      <td>73.913043</td>\n",
       "      <td>52.177858</td>\n",
       "      <td>49.107143</td>\n",
       "      <td>36.666667</td>\n",
       "      <td>70.967742</td>\n",
       "      <td>19.483682</td>\n",
       "      <td>5.624297</td>\n",
       "      <td>0.000000</td>\n",
       "      <td>0.000000</td>\n",
       "      <td>1.232143</td>\n",
       "      <td>38.875</td>\n",
       "      <td>97.019123</td>\n",
       "      <td>92.861288</td>\n",
       "      <td>4.157834</td>\n",
       "      <td>37.704918</td>\n",
       "      <td>21.551724</td>\n",
       "      <td>1.062500</td>\n",
       "      <td>0.250000</td>\n",
       "      <td>40.0</td>\n",
       "      <td>-5.0</td>\n",
       "      <td>0</td>\n",
       "      <td>0</td>\n",
       "      <td>0</td>\n",
       "      <td>0</td>\n",
       "      <td>1</td>\n",
       "      <td>0</td>\n",
       "      <td>0</td>\n",
       "    </tr>\n",
       "    <tr>\n",
       "      <th>4</th>\n",
       "      <td>Liga ACB</td>\n",
       "      <td>Tenerife</td>\n",
       "      <td>Obradoiro</td>\n",
       "      <td>2013-10-12</td>\n",
       "      <td>Tenerife</td>\n",
       "      <td>Home</td>\n",
       "      <td>Regular Season</td>\n",
       "      <td>76-74</td>\n",
       "      <td>0.0</td>\n",
       "      <td>Tenerife</td>\n",
       "      <td>Obradoiro</td>\n",
       "      <td>76.0</td>\n",
       "      <td>12.0</td>\n",
       "      <td>30.0</td>\n",
       "      <td>0.40000</td>\n",
       "      <td>11.0</td>\n",
       "      <td>21.0</td>\n",
       "      <td>0.52000</td>\n",
       "      <td>19.0</td>\n",
       "      <td>25.0</td>\n",
       "      <td>0.76000</td>\n",
       "      <td>7.0</td>\n",
       "      <td>22.0</td>\n",
       "      <td>29.0</td>\n",
       "      <td>12.0</td>\n",
       "      <td>13.0</td>\n",
       "      <td>18.0</td>\n",
       "      <td>2.0</td>\n",
       "      <td>0.0</td>\n",
       "      <td>20.0</td>\n",
       "      <td>27.0</td>\n",
       "      <td>87.0</td>\n",
       "      <td>74.0</td>\n",
       "      <td>15.0</td>\n",
       "      <td>36.0</td>\n",
       "      <td>0.42000</td>\n",
       "      <td>9.0</td>\n",
       "      <td>22.0</td>\n",
       "      <td>0.41000</td>\n",
       "      <td>17.0</td>\n",
       "      <td>23.0</td>\n",
       "      <td>0.74000</td>\n",
       "      <td>14.0</td>\n",
       "      <td>25.0</td>\n",
       "      <td>39.0</td>\n",
       "      <td>15.0</td>\n",
       "      <td>12.0</td>\n",
       "      <td>21.0</td>\n",
       "      <td>0.0</td>\n",
       "      <td>2.0</td>\n",
       "      <td>27.0</td>\n",
       "      <td>20.0</td>\n",
       "      <td>70.0</td>\n",
       "      <td>1.0</td>\n",
       "      <td>51.0</td>\n",
       "      <td>23.0</td>\n",
       "      <td>42.647059</td>\n",
       "      <td>52.173913</td>\n",
       "      <td>61.290323</td>\n",
       "      <td>55.882353</td>\n",
       "      <td>21.875000</td>\n",
       "      <td>61.111111</td>\n",
       "      <td>22.500000</td>\n",
       "      <td>73.00</td>\n",
       "      <td>17.808219</td>\n",
       "      <td>2.739726</td>\n",
       "      <td>5.555556</td>\n",
       "      <td>1.490196</td>\n",
       "      <td>37.096774</td>\n",
       "      <td>17.142857</td>\n",
       "      <td>0.666667</td>\n",
       "      <td>0.722222</td>\n",
       "      <td>50.875</td>\n",
       "      <td>104.109589</td>\n",
       "      <td>58.0</td>\n",
       "      <td>75.12</td>\n",
       "      <td>98.509052</td>\n",
       "      <td>5.600537</td>\n",
       "      <td>55.4</td>\n",
       "      <td>24.0</td>\n",
       "      <td>57.352941</td>\n",
       "      <td>62.500000</td>\n",
       "      <td>54.315913</td>\n",
       "      <td>49.137931</td>\n",
       "      <td>38.888889</td>\n",
       "      <td>78.125000</td>\n",
       "      <td>23.563734</td>\n",
       "      <td>15.974441</td>\n",
       "      <td>0.000000</td>\n",
       "      <td>0.000000</td>\n",
       "      <td>1.275862</td>\n",
       "      <td>47.125</td>\n",
       "      <td>98.509052</td>\n",
       "      <td>104.109589</td>\n",
       "      <td>-5.600537</td>\n",
       "      <td>36.923077</td>\n",
       "      <td>17.882690</td>\n",
       "      <td>0.714286</td>\n",
       "      <td>0.571429</td>\n",
       "      <td>48.6</td>\n",
       "      <td>2.0</td>\n",
       "      <td>0</td>\n",
       "      <td>0</td>\n",
       "      <td>0</td>\n",
       "      <td>0</td>\n",
       "      <td>1</td>\n",
       "      <td>0</td>\n",
       "      <td>0</td>\n",
       "    </tr>\n",
       "  </tbody>\n",
       "</table>\n",
       "</div>"
      ],
      "text/plain": [
       "      Tournament Home Team        Away Team  Match Date Winner Team  \\\n",
       "0  Basket League      KAOD             Aris  2013-10-12        Aris   \n",
       "1  Basket League      PAOK  Kolossos Rhodes  2013-10-12        PAOK   \n",
       "2       Liga ACB    Bilbao         Zaragoza  2013-10-12    Zaragoza   \n",
       "3  Basket League   Trikala          Kifisia  2013-10-12     Kifisia   \n",
       "4       Liga ACB  Tenerife        Obradoiro  2013-10-12    Tenerife   \n",
       "\n",
       "  Winner Home Or Away           Phase Final Score  Extra Periods      Team  \\\n",
       "0                Away  Regular Season       58-66            0.0      KAOD   \n",
       "1                Home  Regular Season       88-81            0.0      PAOK   \n",
       "2                Away  Regular Season       77-86            0.0    Bilbao   \n",
       "3                Away  Regular Season       64-69            0.0   Trikala   \n",
       "4                Home  Regular Season       76-74            0.0  Tenerife   \n",
       "\n",
       "     Opponent Team  Team Points  Team Two Pointers Made  \\\n",
       "0             Aris         58.0                    20.0   \n",
       "1  Kolossos Rhodes         88.0                    17.0   \n",
       "2         Zaragoza         77.0                    24.0   \n",
       "3          Kifisia         64.0                    21.0   \n",
       "4        Obradoiro         76.0                    12.0   \n",
       "\n",
       "   Team Two Pointers Attempted  Team Two Pointers Percenage  \\\n",
       "0                         43.0                      0.46512   \n",
       "1                         35.0                      0.48571   \n",
       "2                         46.0                      0.52000   \n",
       "3                         41.0                      0.51220   \n",
       "4                         30.0                      0.40000   \n",
       "\n",
       "   Team Three Pointers Made  Team Three Pointers Attempted  \\\n",
       "0                       1.0                           10.0   \n",
       "1                      10.0                           26.0   \n",
       "2                       5.0                           12.0   \n",
       "3                       5.0                           14.0   \n",
       "4                      11.0                           21.0   \n",
       "\n",
       "   Team Three Pointers Percenage  Team Free Throws Made  \\\n",
       "0                        0.10000                   15.0   \n",
       "1                        0.38462                   24.0   \n",
       "2                        0.42000                   14.0   \n",
       "3                        0.35714                    7.0   \n",
       "4                        0.52000                   19.0   \n",
       "\n",
       "   Team Free Throws Attempted  Team Free Throws Percenage  \\\n",
       "0                        26.0                     0.57692   \n",
       "1                        26.0                     0.92308   \n",
       "2                        20.0                     0.70000   \n",
       "3                        18.0                     0.38889   \n",
       "4                        25.0                     0.76000   \n",
       "\n",
       "   Team Offensive Rebounds  Team Defensive Rebounds  Team Total Rebounds  \\\n",
       "0                     12.0                     22.0                 34.0   \n",
       "1                      9.0                     22.0                 31.0   \n",
       "2                     13.0                     19.0                 32.0   \n",
       "3                      9.0                     19.0                 27.0   \n",
       "4                      7.0                     22.0                 29.0   \n",
       "\n",
       "   Team Assists  Team Steals  Team Turnovers  Team Blocks  \\\n",
       "0           6.0          6.0            17.0          3.0   \n",
       "1          22.0          7.0            18.0          3.0   \n",
       "2          15.0          7.0            12.0          1.0   \n",
       "3          15.0          5.0            15.0          3.0   \n",
       "4          12.0         13.0            18.0          2.0   \n",
       "\n",
       "   Team Blocks Against  Team Personal Fouls  Team Fouls Received  \\\n",
       "0                  3.0                 22.0                 22.0   \n",
       "1                  1.0                 23.0                 23.0   \n",
       "2                  1.0                 18.0                 23.0   \n",
       "3                  0.0                 23.0                 24.0   \n",
       "4                  0.0                 20.0                 27.0   \n",
       "\n",
       "   Team Performance Index  Opponent Points  Opponent Two Pointers Made  \\\n",
       "0                    40.0             66.0                        15.0   \n",
       "1                    96.0             81.0                        26.0   \n",
       "2                    89.0             86.0                        25.0   \n",
       "3                    62.0             69.0                        14.0   \n",
       "4                    87.0             74.0                        15.0   \n",
       "\n",
       "   Opponent Two Pointers Attempted  Opponent Two Pointers Percenage  \\\n",
       "0                             33.0                          0.45455   \n",
       "1                             42.0                          0.61905   \n",
       "2                             39.0                          0.64000   \n",
       "3                             28.0                          0.50000   \n",
       "4                             36.0                          0.42000   \n",
       "\n",
       "   Opponent Three Pointers Made  Opponent Three Pointers Attempted  \\\n",
       "0                           9.0                               23.0   \n",
       "1                           5.0                               16.0   \n",
       "2                          10.0                               23.0   \n",
       "3                           9.0                               28.0   \n",
       "4                           9.0                               22.0   \n",
       "\n",
       "   Opponent Three Pointers Percenage  Opponent Free Throws Made  \\\n",
       "0                            0.39130                        9.0   \n",
       "1                            0.31250                       14.0   \n",
       "2                            0.43000                        6.0   \n",
       "3                            0.32143                       14.0   \n",
       "4                            0.41000                       17.0   \n",
       "\n",
       "   Opponent Free Throws Attempted  Opponent Free Throws Percenage  \\\n",
       "0                            19.0                         0.47368   \n",
       "1                            21.0                         0.66667   \n",
       "2                            10.0                         0.60000   \n",
       "3                            23.0                         0.60870   \n",
       "4                            23.0                         0.74000   \n",
       "\n",
       "   Opponent Offensive Rebounds  Opponent Defensive Rebounds  \\\n",
       "0                         10.0                         18.0   \n",
       "1                          6.0                         25.0   \n",
       "2                          9.0                         20.0   \n",
       "3                         11.0                         22.0   \n",
       "4                         14.0                         25.0   \n",
       "\n",
       "   Opponent Total Rebounds  Opponent Assists  Opponent Steals  \\\n",
       "0                     28.0              11.0              8.0   \n",
       "1                     31.0               5.0              8.0   \n",
       "2                     29.0              16.0             10.0   \n",
       "3                     33.0              17.0              4.0   \n",
       "4                     39.0              15.0             12.0   \n",
       "\n",
       "   Opponent Turnovers  Opponent Blocks  Opponent Blocks Against  \\\n",
       "0                14.0              3.0                      3.0   \n",
       "1                18.0              1.0                      3.0   \n",
       "2                10.0              1.0                      1.0   \n",
       "3                16.0              0.0                      3.0   \n",
       "4                21.0              0.0                      2.0   \n",
       "\n",
       "   Opponent Personal Fouls  Opponent Fouls Received  \\\n",
       "0                     22.0                     22.0   \n",
       "1                     24.0                     22.0   \n",
       "2                     23.0                     18.0   \n",
       "3                     24.0                     23.0   \n",
       "4                     27.0                     20.0   \n",
       "\n",
       "   Opponent Performance Index  Team Result  teamFGA  teamFGM  teamTREB%  \\\n",
       "0                        57.0          0.0     53.0     21.0  54.838710   \n",
       "1                        69.0          1.0     61.0     27.0  50.000000   \n",
       "2                        95.0          0.0     58.0     29.0  52.459016   \n",
       "3                        62.0          0.0     55.0     26.0  45.000000   \n",
       "4                        70.0          1.0     51.0     23.0  42.647059   \n",
       "\n",
       "   teamASST%    teamTS%   teamEFG%  teamOREB%  teamDREB%    teamTO%  teamPoss  \\\n",
       "0  28.571429  45.003104  40.566038  40.000000  68.750000  20.874263     69.44   \n",
       "1  81.481481  60.739923  52.459016  26.470588  78.571429  19.902698     81.44   \n",
       "2  51.724138  57.634731  54.310345  39.393939  67.857143  15.228426     65.80   \n",
       "3  57.692308  50.858233  51.818182  29.032258  63.333333  19.250513     68.92   \n",
       "4  52.173913  61.290323  55.882353  21.875000  61.111111  22.500000     73.00   \n",
       "\n",
       "    teamSTL%  teamBLK%   teamBLKR   teamPPS  teamPlay%     teamAR  teamAST/TO  \\\n",
       "0   8.640553  4.320276   9.090909  1.094340  36.206897   9.293680    0.352941   \n",
       "1   8.595285  3.683694   7.142857  1.442623  38.571429  24.564538    1.222222   \n",
       "2  10.638298  1.519757   2.564103  1.327586  50.877193  19.685039    1.250000   \n",
       "3   7.254788  4.352873  10.714286  1.163636  42.622951  19.460301    1.000000   \n",
       "4  17.808219  2.739726   5.555556  1.490196  37.096774  17.142857    0.666667   \n",
       "\n",
       "   teamSTL/TO  teamFIC    teamOrtg  opptFGA  opptPoss    teamDrtg  teamEDiff  \\\n",
       "0    0.352941   24.000   83.525346     56.0     68.36   96.547689 -13.022343   \n",
       "1    0.388889   60.500  108.055010     58.0     79.24  102.221100   5.833909   \n",
       "2    0.583333   55.250  117.021277     62.0     67.40  127.596439 -10.575163   \n",
       "3    0.333333   35.750   92.861288     56.0     71.12   97.019123  -4.157834   \n",
       "4    0.722222   50.875  104.109589     58.0     75.12   98.509052   5.600537   \n",
       "\n",
       "   team_Game_Score  opptFGM  opptTREB%  opptASST%    opptTS%   opptEFG%  \\\n",
       "0             26.4     24.0  45.161290  45.833333  51.274083  50.892857   \n",
       "1             65.5     31.0  50.000000  16.129032  60.232005  57.758621   \n",
       "2             59.4     35.0  47.540984  45.714286  64.759036  64.516129   \n",
       "3             36.9     23.0  55.000000  73.913043  52.177858  49.107143   \n",
       "4             55.4     24.0  57.352941  62.500000  54.315913  49.137931   \n",
       "\n",
       "   opptOREB%  opptDREB%    opptTO%   opptSTL%  opptBLK%  opptBLKR   opptPPS  \\\n",
       "0  31.250000  60.000000  17.866258  11.702750  4.388531  6.976744  1.178571   \n",
       "1  21.428571  73.529412  21.116847  10.095911  1.261989  2.857143  1.396552   \n",
       "2  32.142857  60.606061  13.089005  14.836795  1.483680  2.173913  1.387097   \n",
       "3  36.666667  70.967742  19.483682   5.624297  0.000000  0.000000  1.232143   \n",
       "4  38.888889  78.125000  23.563734  15.974441  0.000000  0.000000  1.275862   \n",
       "\n",
       "   opptFIC    opptOrtg    opptDrtg  opptEDiff  opptPlay%     opptAR  \\\n",
       "0   37.375   96.547689   83.525346  13.022343  40.000000  15.143172   \n",
       "1   38.375  102.221100  108.055010  -5.833909  44.285714   6.967670   \n",
       "2   65.250  127.596439  117.021277  10.575163  55.555556  19.138756   \n",
       "3   38.875   97.019123   92.861288   4.157834  37.704918  21.551724   \n",
       "4   47.125   98.509052  104.109589  -5.600537  36.923077  17.882690   \n",
       "\n",
       "   opptAST/TO  opptSTL/TO  oppt_Game_Score  Points difference  Finals  \\\n",
       "0    0.785714    0.571429             39.8               -8.0       0   \n",
       "1    0.277778    0.444444             46.3                7.0       0   \n",
       "2    1.600000    1.000000             70.0               -9.0       0   \n",
       "3    1.062500    0.250000             40.0               -5.0       0   \n",
       "4    0.714286    0.571429             48.6                2.0       0   \n",
       "\n",
       "   Last 32  Playoffs  Quarter-Finals  Regular Season  Semifinals  Top 16  \n",
       "0        0         0               0               1           0       0  \n",
       "1        0         0               0               1           0       0  \n",
       "2        0         0               0               1           0       0  \n",
       "3        0         0               0               1           0       0  \n",
       "4        0         0               0               1           0       0  "
      ]
     },
     "execution_count": 3,
     "metadata": {},
     "output_type": "execute_result"
    }
   ],
   "source": [
    "pd.options.display.max_columns = None\n",
    "data.head(5)"
   ]
  },
  {
   "cell_type": "code",
   "execution_count": 4,
   "metadata": {},
   "outputs": [],
   "source": [
    "data['Match Date']=pd.to_datetime(data['Match Date'])"
   ]
  },
  {
   "cell_type": "code",
   "execution_count": 5,
   "metadata": {},
   "outputs": [
    {
     "data": {
      "text/plain": [
       "(5214, 108)"
      ]
     },
     "execution_count": 5,
     "metadata": {},
     "output_type": "execute_result"
    }
   ],
   "source": [
    "data.shape"
   ]
  },
  {
   "cell_type": "code",
   "execution_count": 6,
   "metadata": {},
   "outputs": [
    {
     "data": {
      "text/plain": [
       "array(['Basket League', 'Liga ACB', 'Eurocup', 'Euroleague'], dtype=object)"
      ]
     },
     "execution_count": 6,
     "metadata": {},
     "output_type": "execute_result"
    }
   ],
   "source": [
    "data['Tournament'].unique()"
   ]
  },
  {
   "cell_type": "markdown",
   "metadata": {},
   "source": [
    "# Elo "
   ]
  },
  {
   "cell_type": "markdown",
   "metadata": {},
   "source": [
    "# Greek Basket league"
   ]
  },
  {
   "cell_type": "code",
   "execution_count": 7,
   "metadata": {},
   "outputs": [
    {
     "name": "stdout",
     "output_type": "stream",
     "text": [
      "time:\n",
      "44.894654833333334\n"
     ]
    }
   ],
   "source": [
    "df_matches = data[(data['Tournament']=='Basket League') & (data['Match Date'] < '2017-8-1')].reset_index(drop=True)\n",
    "Data_Frame = data[(data['Tournament']=='Basket League')].reset_index(drop=True)\n",
    "lamda_values = np.arange(0.1, 3.6, 0.1)\n",
    "k0_values = list(range(1,61))\n",
    "\n",
    "\n",
    "\n",
    "start = timer()\n",
    "if __name__ ==  '__main__':\n",
    "    pool = Pool(processes=6)  \n",
    "    chunks = np.array_split(lamda_values, 6)\n",
    "    result = pool.map(partial(run_elo_tuning,matches = df_matches, Data_Frame = Data_Frame,k0_values = k0_values), chunks)\n",
    "\n",
    "    greek_loss_array=np.concatenate(result)\n",
    "\n",
    "    pool.terminate()\n",
    "    pool.join()\n",
    "end = timer()\n",
    "print (\"time:\")\n",
    "print ((end - start)/60)\n",
    "\n"
   ]
  },
  {
   "cell_type": "code",
   "execution_count": 8,
   "metadata": {},
   "outputs": [
    {
     "data": {
      "image/png": "[encoded data removed]",
      "text/plain": [
       "<Figure size 432x288 with 2 Axes>"
      ]
     },
     "metadata": {
      "needs_background": "light"
     },
     "output_type": "display_data"
    }
   ],
   "source": [
    "best_lamda,best_k0 = np.where(greek_loss_array == np.min(greek_loss_array))\n",
    "X, Y = np.meshgrid(k0_values,lamda_values)\n",
    "Z = greek_loss_array\n",
    "fig,ax=plt.subplots(1,1)\n",
    "cp = ax.contourf(X, Y, Z, 20, cmap='OrRd_r')\n",
    "ax.plot(k0_values[best_k0[0]],lamda_values[best_lamda[0]],'-o',color='white') \n",
    "ax.vlines(k0_values[best_k0[0]], 0.1, lamda_values[best_lamda[0]], linestyle=\"dashed\",color='white')\n",
    "ax.hlines(lamda_values[best_lamda[0]], 1, k0_values[best_k0[0]], linestyle=\"dashed\",color='white')\n",
    "\n",
    "kwargs = {'format': '%.2f'}\n",
    "fig.colorbar(cp,**kwargs) # Add a colorbar to a plot\n",
    "title = 'Elo Loss for Greek Basket League \\n Best Parameters : k0 = ' + str(k0_values[best_k0[0]]) + ' and λ = ' + str(round(lamda_values[best_lamda[0]],2))\n",
    "ax.set_title(title)\n",
    "ax.set_xlabel('k0', fontsize=12)\n",
    "ax.set_ylabel('λ', fontsize=12)\n",
    "plt.savefig('Figures/elo_loss_greek.png')\n",
    "plt.show()"
   ]
  },
  {
   "cell_type": "code",
   "execution_count": 9,
   "metadata": {},
   "outputs": [
    {
     "data": {
      "text/plain": [
       "0.27993370235928333"
      ]
     },
     "execution_count": 9,
     "metadata": {},
     "output_type": "execute_result"
    }
   ],
   "source": [
    "np.min(greek_loss_array)"
   ]
  },
  {
   "cell_type": "code",
   "execution_count": 10,
   "metadata": {},
   "outputs": [
    {
     "name": "stderr",
     "output_type": "stream",
     "text": [
      "C:\\Users\\User\\Desktop\\paper_new\\Paper_Code_Data\\paper_code_notebooks\\utilities\\Elo_rating_system.py:132: RuntimeWarning: overflow encountered in double_scalars\n",
      "  return ( 1+10**( ( opponent.rating-self.rating )/400.0 ) ) ** -1\n",
      "C:\\Users\\User\\Desktop\\paper_new\\Paper_Code_Data\\paper_code_notebooks\\utilities\\Elo_optimazation_parameters.py:29: RuntimeWarning: overflow encountered in double_scalars\n",
      "  elo_expected_home=( 1+10**( ( elo_away-elo_home )/400.0 ) ) ** -1\n"
     ]
    },
    {
     "data": {
      "text/plain": [
       "array([[0.31017788]])"
      ]
     },
     "execution_count": 10,
     "metadata": {},
     "output_type": "execute_result"
    }
   ],
   "source": [
    "df_matches = data[(data['Tournament']=='Basket League') & (data['Match Date'] < '2017-8-1')].reset_index(drop=True)\n",
    "Data_Frame = data[(data['Tournament']=='Basket League')].reset_index(drop=True)\n",
    "run_elo_tuning(matches = df_matches, Data_Frame = Data_Frame,k0_values = [29.75],lamda_values=[2.225])"
   ]
  },
  {
   "cell_type": "code",
   "execution_count": 11,
   "metadata": {},
   "outputs": [
    {
     "data": {
      "text/plain": [
       "array([[0.48336922, 0.47033223, 0.45934312, ..., 0.35542651, 0.35506986,\n",
       "        0.35472377],\n",
       "       [0.47865525, 0.46260754, 0.4497602 , ..., 0.3484695 , 0.34817753,\n",
       "        0.3478946 ],\n",
       "       [0.47267503, 0.45340789, 0.43888102, ..., 0.34243876, 0.34220644,\n",
       "        0.34198161],\n",
       "       ...,\n",
       "       [0.32333253, 0.3133574 , 0.30784016, ..., 0.29272727, 0.29272727,\n",
       "        0.29272727],\n",
       "       [0.31171063, 0.31029661, 0.31490033, ..., 0.28848485, 0.28848485,\n",
       "        0.28848485],\n",
       "       [0.31055834, 0.3168683 , 0.3084674 , ..., 0.29878589, 0.2987861 ,\n",
       "        0.29878628]])"
      ]
     },
     "execution_count": 11,
     "metadata": {},
     "output_type": "execute_result"
    }
   ],
   "source": [
    "greek_loss_array"
   ]
  },
  {
   "cell_type": "code",
   "execution_count": 16,
   "metadata": {},
   "outputs": [],
   "source": [
    "np.save('saved_losses/greek_elo_loss.npy', greek_loss_array)"
   ]
  },
  {
   "cell_type": "markdown",
   "metadata": {},
   "source": [
    "# Liga ACB"
   ]
  },
  {
   "cell_type": "code",
   "execution_count": 8,
   "metadata": {},
   "outputs": [
    {
     "name": "stdout",
     "output_type": "stream",
     "text": [
      "time:\n",
      "72.07951670333333\n"
     ]
    }
   ],
   "source": [
    "df_matches = data[(data['Tournament']=='Liga ACB') & (data['Match Date'] < '2017-8-1')].reset_index(drop=True)\n",
    "Data_Frame = data[(data['Tournament']=='Liga ACB')].reset_index(drop=True)\n",
    "lamda_values = np.arange(0.1, 3.6, 0.1)\n",
    "k0_values = list(range(1,61))\n",
    "\n",
    "\n",
    "\n",
    "start = timer()\n",
    "if __name__ ==  '__main__':\n",
    "    pool = Pool(processes=6)  \n",
    "    chunks = np.array_split(lamda_values, 6)\n",
    "    result = pool.map(partial(run_elo_tuning,matches = df_matches, Data_Frame = Data_Frame,k0_values = k0_values), chunks)\n",
    "\n",
    "    spain_loss_array=np.concatenate(result)\n",
    "\n",
    "    pool.terminate()\n",
    "    pool.join()\n",
    "end = timer()\n",
    "print (\"time:\")\n",
    "print ((end - start)/60)\n",
    "\n"
   ]
  },
  {
   "cell_type": "code",
   "execution_count": 14,
   "metadata": {},
   "outputs": [
    {
     "data": {
      "image/png": "[encoded data removed]",
      "text/plain": [
       "<Figure size 432x288 with 2 Axes>"
      ]
     },
     "metadata": {
      "needs_background": "light"
     },
     "output_type": "display_data"
    }
   ],
   "source": [
    "best_lamda,best_k0 = np.where(spain_loss_array == np.min(spain_loss_array))\n",
    "X, Y = np.meshgrid(k0_values,lamda_values)\n",
    "Z = spain_loss_array\n",
    "fig,ax=plt.subplots(1,1)\n",
    "cp = ax.contourf(X, Y, Z, 20, cmap='OrRd_r')\n",
    "ax.plot(k0_values[best_k0[0]],lamda_values[best_lamda[0]],'-o',color='white') \n",
    "ax.vlines(k0_values[best_k0[0]], 0.1, lamda_values[best_lamda[0]], linestyle=\"dashed\",color='white')\n",
    "ax.hlines(lamda_values[best_lamda[0]], 1, k0_values[best_k0[0]], linestyle=\"dashed\",color='white')\n",
    "\n",
    "kwargs = {'format': '%.2f'}\n",
    "fig.colorbar(cp,**kwargs) # Add a colorbar to a plot # Add a colorbar to a plot\n",
    "title = 'Elo Loss for Liga ACB \\n Best Parameters : k0 = ' + str(k0_values[best_k0[0]]) + ' and λ = ' + str(round(lamda_values[best_lamda[0]],2))\n",
    "ax.set_title(title)\n",
    "ax.set_xlabel('k0', fontsize=12)\n",
    "ax.set_ylabel('λ', fontsize=12)\n",
    "plt.savefig('Figures/elo_loss_spain.png')\n",
    "plt.show()"
   ]
  },
  {
   "cell_type": "code",
   "execution_count": 15,
   "metadata": {},
   "outputs": [
    {
     "data": {
      "text/plain": [
       "0.33664431036641995"
      ]
     },
     "execution_count": 15,
     "metadata": {},
     "output_type": "execute_result"
    }
   ],
   "source": [
    "np.min(spain_loss_array)"
   ]
  },
  {
   "cell_type": "code",
   "execution_count": 16,
   "metadata": {},
   "outputs": [
    {
     "data": {
      "text/plain": [
       "array([[0.34787821]])"
      ]
     },
     "execution_count": 16,
     "metadata": {},
     "output_type": "execute_result"
    }
   ],
   "source": [
    "df_matches = data[(data['Tournament']=='Liga ACB') & (data['Match Date'] < '2017-8-1')].reset_index(drop=True)\n",
    "Data_Frame = data[(data['Tournament']=='Liga ACB')].reset_index(drop=True)\n",
    "run_elo_tuning(matches = df_matches, Data_Frame = Data_Frame,k0_values = [29.75],lamda_values=[2.225])"
   ]
  },
  {
   "cell_type": "code",
   "execution_count": 17,
   "metadata": {},
   "outputs": [
    {
     "data": {
      "text/plain": [
       "array([[0.4871425 , 0.47684795, 0.46833555, ..., 0.40019565, 0.40005458,\n",
       "        0.39992021],\n",
       "       [0.48352373, 0.47097441, 0.4610959 , ..., 0.39543217, 0.395345  ,\n",
       "        0.3952637 ],\n",
       "       [0.47895109, 0.46396623, 0.45282926, ..., 0.39137488, 0.3913441 ,\n",
       "        0.39131814],\n",
       "       ...,\n",
       "       [0.34949156, 0.35062939, 0.35485166, ..., 0.35920535, 0.35910288,\n",
       "        0.35877287],\n",
       "       [0.34736561, 0.34750602, 0.34901406, ..., 0.35117187, 0.35117187,\n",
       "        0.35117187],\n",
       "       [0.34767812, 0.34647873, 0.34725994, ..., 0.34804687, 0.34804687,\n",
       "        0.34804687]])"
      ]
     },
     "execution_count": 17,
     "metadata": {},
     "output_type": "execute_result"
    }
   ],
   "source": [
    "spain_loss_array"
   ]
  },
  {
   "cell_type": "code",
   "execution_count": 17,
   "metadata": {},
   "outputs": [],
   "source": [
    "np.save('saved_losses/spain_elo_loss.npy', spain_loss_array)"
   ]
  },
  {
   "cell_type": "markdown",
   "metadata": {},
   "source": [
    "# Euroleague"
   ]
  },
  {
   "cell_type": "code",
   "execution_count": 10,
   "metadata": {},
   "outputs": [
    {
     "name": "stdout",
     "output_type": "stream",
     "text": [
      "time:\n",
      "44.717279005\n"
     ]
    }
   ],
   "source": [
    "df_matches = data[(data['Tournament']=='Euroleague') & (data['Match Date'] < '2017-8-1')].reset_index(drop=True)\n",
    "Data_Frame = data[(data['Tournament']=='Euroleague')].reset_index(drop=True)\n",
    "lamda_values = np.arange(0.1, 3.6, 0.1)\n",
    "k0_values = list(range(1,61))\n",
    "\n",
    "\n",
    "\n",
    "start = timer()\n",
    "if __name__ ==  '__main__':\n",
    "    pool = Pool(processes=6)  \n",
    "    chunks = np.array_split(lamda_values, 6)\n",
    "    result = pool.map(partial(run_elo_tuning,matches = df_matches, Data_Frame = Data_Frame,k0_values = k0_values), chunks)\n",
    "\n",
    "    euroleague_loss_array=np.concatenate(result)\n",
    "\n",
    "    pool.terminate()\n",
    "    pool.join()\n",
    "end = timer()\n",
    "print (\"time:\")\n",
    "print ((end - start)/60)\n",
    "\n"
   ]
  },
  {
   "cell_type": "code",
   "execution_count": 19,
   "metadata": {},
   "outputs": [
    {
     "data": {
      "image/png": "[encoded data removed]",
      "text/plain": [
       "<Figure size 432x288 with 2 Axes>"
      ]
     },
     "metadata": {
      "needs_background": "light"
     },
     "output_type": "display_data"
    }
   ],
   "source": [
    "best_lamda,best_k0 = np.where(euroleague_loss_array == np.min(euroleague_loss_array))\n",
    "X, Y = np.meshgrid(k0_values,lamda_values)\n",
    "Z = euroleague_loss_array\n",
    "fig,ax=plt.subplots(1,1)\n",
    "cp = ax.contourf(X, Y, Z, 20, cmap='OrRd_r')\n",
    "ax.plot(k0_values[best_k0[0]],lamda_values[best_lamda[0]],'-o',color='white') \n",
    "ax.vlines(k0_values[best_k0[0]], 0.1, lamda_values[best_lamda[0]], linestyle=\"dashed\",color='white')\n",
    "ax.hlines(lamda_values[best_lamda[0]], 1, k0_values[best_k0[0]], linestyle=\"dashed\",color='white')\n",
    "\n",
    "kwargs = {'format': '%.2f'}\n",
    "fig.colorbar(cp,**kwargs) # Add a colorbar to a plot \n",
    "title = 'Elo Loss for Euroleague \\n Best Parameters : k0 = ' + str(k0_values[best_k0[0]]) + ' and λ = ' + str(round(lamda_values[best_lamda[0]],2))\n",
    "ax.set_title(title)\n",
    "ax.set_xlabel('k0', fontsize=12)\n",
    "ax.set_ylabel('λ', fontsize=12)\n",
    "plt.savefig('Figures/elo_loss_euroleague.png')\n",
    "plt.show()"
   ]
  },
  {
   "cell_type": "code",
   "execution_count": 20,
   "metadata": {},
   "outputs": [
    {
     "data": {
      "text/plain": [
       "0.3603219744007668"
      ]
     },
     "execution_count": 20,
     "metadata": {},
     "output_type": "execute_result"
    }
   ],
   "source": [
    "np.min(euroleague_loss_array)"
   ]
  },
  {
   "cell_type": "code",
   "execution_count": 21,
   "metadata": {},
   "outputs": [
    {
     "data": {
      "text/plain": [
       "array([[0.37051545]])"
      ]
     },
     "execution_count": 21,
     "metadata": {},
     "output_type": "execute_result"
    }
   ],
   "source": [
    "df_matches = data[(data['Tournament']=='Euroleague') & (data['Match Date'] < '2017-8-1')].reset_index(drop=True)\n",
    "Data_Frame = data[(data['Tournament']=='Euroleague')].reset_index(drop=True)\n",
    "run_elo_tuning(matches = df_matches, Data_Frame = Data_Frame,k0_values = [29.75],lamda_values=[2.225])"
   ]
  },
  {
   "cell_type": "code",
   "execution_count": 22,
   "metadata": {},
   "outputs": [
    {
     "data": {
      "text/plain": [
       "array([[0.49199734, 0.48660084, 0.48178125, ..., 0.42271135, 0.42250322,\n",
       "        0.42230206],\n",
       "       [0.49026634, 0.48354753, 0.47772873, ..., 0.41790839, 0.41773317,\n",
       "        0.41756392],\n",
       "       [0.48804524, 0.47976849, 0.47286755, ..., 0.41340343, 0.41325534,\n",
       "        0.41311224],\n",
       "       ...,\n",
       "       [0.38485557, 0.39379902, 0.3892919 , ..., 0.38189904, 0.38189684,\n",
       "        0.38189464],\n",
       "       [0.38531212, 0.38830805, 0.38846425, ..., 0.38505631, 0.38505752,\n",
       "        0.38505872],\n",
       "       [0.38338928, 0.38858684, 0.38911705, ..., 0.38746298, 0.38746298,\n",
       "        0.38746298]])"
      ]
     },
     "execution_count": 22,
     "metadata": {},
     "output_type": "execute_result"
    }
   ],
   "source": [
    "euroleague_loss_array"
   ]
  },
  {
   "cell_type": "code",
   "execution_count": 18,
   "metadata": {},
   "outputs": [],
   "source": [
    "np.save('saved_losses/euroleague_elo_loss.npy', euroleague_loss_array)"
   ]
  },
  {
   "cell_type": "markdown",
   "metadata": {},
   "source": [
    "# Eurocup"
   ]
  },
  {
   "cell_type": "code",
   "execution_count": 13,
   "metadata": {},
   "outputs": [
    {
     "name": "stdout",
     "output_type": "stream",
     "text": [
      "time:\n",
      "35.789814376666676\n"
     ]
    }
   ],
   "source": [
    "df_matches = data[(data['Tournament']=='Eurocup') & (data['Match Date'] < '2017-8-1')].reset_index(drop=True)\n",
    "Data_Frame = data[(data['Tournament']=='Eurocup')].reset_index(drop=True)\n",
    "lamda_values = np.arange(0.1, 3.6, 0.1)\n",
    "k0_values = list(range(1,61))\n",
    "\n",
    "\n",
    "\n",
    "start = timer()\n",
    "if __name__ ==  '__main__':\n",
    "    pool = Pool(processes=6)  \n",
    "    chunks = np.array_split(lamda_values, 6)\n",
    "    result = pool.map(partial(run_elo_tuning,matches = df_matches, Data_Frame = Data_Frame,k0_values = k0_values), chunks)\n",
    "\n",
    "    eurocup_loss_array=np.concatenate(result)\n",
    "\n",
    "    pool.terminate()\n",
    "    pool.join()\n",
    "end = timer()\n",
    "print (\"time:\")\n",
    "print ((end - start)/60)\n",
    "\n"
   ]
  },
  {
   "cell_type": "code",
   "execution_count": 25,
   "metadata": {},
   "outputs": [
    {
     "data": {
      "image/png": "[encoded data removed]",
      "text/plain": [
       "<Figure size 432x288 with 2 Axes>"
      ]
     },
     "metadata": {
      "needs_background": "light"
     },
     "output_type": "display_data"
    }
   ],
   "source": [
    "best_lamda,best_k0 = np.where(eurocup_loss_array == np.min(eurocup_loss_array))\n",
    "X, Y = np.meshgrid(k0_values,lamda_values)\n",
    "Z = eurocup_loss_array\n",
    "fig,ax=plt.subplots(1,1)\n",
    "cp = ax.contourf(X, Y, Z, 20, cmap='OrRd_r')\n",
    "ax.plot(k0_values[best_k0[0]],lamda_values[best_lamda[0]],'-o',color='white') \n",
    "ax.vlines(k0_values[best_k0[0]], 0.1, lamda_values[best_lamda[0]], linestyle=\"dashed\",color='white')\n",
    "ax.hlines(lamda_values[best_lamda[0]], 1, k0_values[best_k0[0]], linestyle=\"dashed\",color='white')\n",
    "\n",
    "kwargs = {'format': '%.2f'}\n",
    "fig.colorbar(cp,**kwargs) # Add a colorbar to a plot\n",
    "title = 'Elo Loss for Eurocup \\n Best Parameters : k0 = ' + str(k0_values[best_k0[0]]) + ' and λ = ' + str(round(lamda_values[best_lamda[0]],2))\n",
    "ax.set_title(title)\n",
    "ax.set_xlabel('k0', fontsize=12)\n",
    "ax.set_ylabel('λ', fontsize=12)\n",
    "plt.savefig('Figures/elo_loss_eurocup.png')\n",
    "plt.show()"
   ]
  },
  {
   "cell_type": "code",
   "execution_count": 26,
   "metadata": {},
   "outputs": [
    {
     "data": {
      "text/plain": [
       "0.39336941851782475"
      ]
     },
     "execution_count": 26,
     "metadata": {},
     "output_type": "execute_result"
    }
   ],
   "source": [
    " np.min(eurocup_loss_array)"
   ]
  },
  {
   "cell_type": "code",
   "execution_count": 27,
   "metadata": {},
   "outputs": [
    {
     "data": {
      "text/plain": [
       "array([[0.42118934]])"
      ]
     },
     "execution_count": 27,
     "metadata": {},
     "output_type": "execute_result"
    }
   ],
   "source": [
    "df_matches = data[(data['Tournament']=='Eurocup') & (data['Match Date'] < '2017-8-1')].reset_index(drop=True)\n",
    "Data_Frame = data[(data['Tournament']=='Eurocup')].reset_index(drop=True)\n",
    "run_elo_tuning(matches = df_matches, Data_Frame = Data_Frame,k0_values = [29.75],lamda_values=[2.225])"
   ]
  },
  {
   "cell_type": "code",
   "execution_count": 28,
   "metadata": {},
   "outputs": [
    {
     "data": {
      "text/plain": [
       "array([[0.49874821, 0.49670578, 0.49475847, ..., 0.45359921, 0.45333215,\n",
       "        0.45307211],\n",
       "       [0.49804036, 0.49536619, 0.49285972, ..., 0.44872303, 0.44849047,\n",
       "        0.44826493],\n",
       "       [0.49709995, 0.4936207 , 0.4904332 , ..., 0.44425566, 0.44406187,\n",
       "        0.4438745 ],\n",
       "       ...,\n",
       "       [0.41450434, 0.4121658 , 0.41468594, ..., 0.41431724, 0.41432322,\n",
       "        0.41432843],\n",
       "       [0.41494913, 0.41532152, 0.41425655, ..., 0.40990193, 0.40990192,\n",
       "        0.40990191],\n",
       "       [0.4185196 , 0.41543383, 0.4161003 , ..., 0.40874024, 0.40874293,\n",
       "        0.40874561]])"
      ]
     },
     "execution_count": 28,
     "metadata": {},
     "output_type": "execute_result"
    }
   ],
   "source": [
    "eurocup_loss_array"
   ]
  },
  {
   "cell_type": "code",
   "execution_count": 19,
   "metadata": {},
   "outputs": [],
   "source": [
    "np.save('saved_losses/eurocup_elo_loss.npy', eurocup_loss_array)"
   ]
  }
 ],
 "metadata": {
  "kernelspec": {
   "display_name": "Python 3",
   "language": "python",
   "name": "python3"
  },
  "language_info": {
   "codemirror_mode": {
    "name": "ipython",
    "version": 3
   },
   "file_extension": ".py",
   "mimetype": "text/x-python",
   "name": "python",
   "nbconvert_exporter": "python",
   "pygments_lexer": "ipython3",
   "version": "3.8.5"
  }
 },
 "nbformat": 4,
 "nbformat_minor": 4
}
