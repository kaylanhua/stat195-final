{
 "cells": [
  {
   "cell_type": "code",
   "execution_count": 1,
   "metadata": {},
   "outputs": [],
   "source": [
    "import numpy as np\n",
    "import pandas as pd\n",
    "from timeit import default_timer as timer\n",
    "from multiprocessing import Pool\n",
    "import sys\n",
    "import os\n",
    "\n",
    "module_path = os.path.abspath(os.path.join('..'))\n",
    "if module_path not in sys.path:\n",
    "    sys.path.append(module_path+\"\\\\utilities\")\n",
    "    \n",
    "from Oliver_four_factors_features_creation import features_creation\n",
    "from sklearn.linear_model import LogisticRegression\n",
    "from sklearn.metrics import accuracy_score"
   ]
  },
  {
   "cell_type": "code",
   "execution_count": 2,
   "metadata": {},
   "outputs": [],
   "source": [
    "data = pd.read_csv('../data/preprocess_data.csv',sep = ',')\n",
    "data['Match Date']=pd.to_datetime(data['Match Date'])"
   ]
  },
  {
   "cell_type": "code",
   "execution_count": 3,
   "metadata": {},
   "outputs": [
    {
     "data": {
      "text/html": [
       "<div>\n",
       "<style scoped>\n",
       "    .dataframe tbody tr th:only-of-type {\n",
       "        vertical-align: middle;\n",
       "    }\n",
       "\n",
       "    .dataframe tbody tr th {\n",
       "        vertical-align: top;\n",
       "    }\n",
       "\n",
       "    .dataframe thead th {\n",
       "        text-align: right;\n",
       "    }\n",
       "</style>\n",
       "<table border=\"1\" class=\"dataframe\">\n",
       "  <thead>\n",
       "    <tr style=\"text-align: right;\">\n",
       "      <th></th>\n",
       "      <th>Tournament</th>\n",
       "      <th>Home Team</th>\n",
       "      <th>Away Team</th>\n",
       "      <th>Match Date</th>\n",
       "      <th>Winner Team</th>\n",
       "      <th>Winner Home Or Away</th>\n",
       "      <th>Phase</th>\n",
       "      <th>Final Score</th>\n",
       "      <th>Extra Periods</th>\n",
       "      <th>Team</th>\n",
       "      <th>...</th>\n",
       "      <th>opptSTL/TO</th>\n",
       "      <th>oppt_Game_Score</th>\n",
       "      <th>Points difference</th>\n",
       "      <th>Finals</th>\n",
       "      <th>Last 32</th>\n",
       "      <th>Playoffs</th>\n",
       "      <th>Quarter-Finals</th>\n",
       "      <th>Regular Season</th>\n",
       "      <th>Semifinals</th>\n",
       "      <th>Top 16</th>\n",
       "    </tr>\n",
       "  </thead>\n",
       "  <tbody>\n",
       "    <tr>\n",
       "      <th>0</th>\n",
       "      <td>Basket League</td>\n",
       "      <td>KAOD</td>\n",
       "      <td>Aris</td>\n",
       "      <td>2013-10-12</td>\n",
       "      <td>Aris</td>\n",
       "      <td>Away</td>\n",
       "      <td>Regular Season</td>\n",
       "      <td>58-66</td>\n",
       "      <td>0.0</td>\n",
       "      <td>KAOD</td>\n",
       "      <td>...</td>\n",
       "      <td>0.571429</td>\n",
       "      <td>39.8</td>\n",
       "      <td>-8.0</td>\n",
       "      <td>0</td>\n",
       "      <td>0</td>\n",
       "      <td>0</td>\n",
       "      <td>0</td>\n",
       "      <td>1</td>\n",
       "      <td>0</td>\n",
       "      <td>0</td>\n",
       "    </tr>\n",
       "    <tr>\n",
       "      <th>1</th>\n",
       "      <td>Basket League</td>\n",
       "      <td>PAOK</td>\n",
       "      <td>Kolossos Rhodes</td>\n",
       "      <td>2013-10-12</td>\n",
       "      <td>PAOK</td>\n",
       "      <td>Home</td>\n",
       "      <td>Regular Season</td>\n",
       "      <td>88-81</td>\n",
       "      <td>0.0</td>\n",
       "      <td>PAOK</td>\n",
       "      <td>...</td>\n",
       "      <td>0.444444</td>\n",
       "      <td>46.3</td>\n",
       "      <td>7.0</td>\n",
       "      <td>0</td>\n",
       "      <td>0</td>\n",
       "      <td>0</td>\n",
       "      <td>0</td>\n",
       "      <td>1</td>\n",
       "      <td>0</td>\n",
       "      <td>0</td>\n",
       "    </tr>\n",
       "    <tr>\n",
       "      <th>2</th>\n",
       "      <td>Liga ACB</td>\n",
       "      <td>Bilbao</td>\n",
       "      <td>Zaragoza</td>\n",
       "      <td>2013-10-12</td>\n",
       "      <td>Zaragoza</td>\n",
       "      <td>Away</td>\n",
       "      <td>Regular Season</td>\n",
       "      <td>77-86</td>\n",
       "      <td>0.0</td>\n",
       "      <td>Bilbao</td>\n",
       "      <td>...</td>\n",
       "      <td>1.000000</td>\n",
       "      <td>70.0</td>\n",
       "      <td>-9.0</td>\n",
       "      <td>0</td>\n",
       "      <td>0</td>\n",
       "      <td>0</td>\n",
       "      <td>0</td>\n",
       "      <td>1</td>\n",
       "      <td>0</td>\n",
       "      <td>0</td>\n",
       "    </tr>\n",
       "    <tr>\n",
       "      <th>3</th>\n",
       "      <td>Basket League</td>\n",
       "      <td>Trikala</td>\n",
       "      <td>Kifisia</td>\n",
       "      <td>2013-10-12</td>\n",
       "      <td>Kifisia</td>\n",
       "      <td>Away</td>\n",
       "      <td>Regular Season</td>\n",
       "      <td>64-69</td>\n",
       "      <td>0.0</td>\n",
       "      <td>Trikala</td>\n",
       "      <td>...</td>\n",
       "      <td>0.250000</td>\n",
       "      <td>40.0</td>\n",
       "      <td>-5.0</td>\n",
       "      <td>0</td>\n",
       "      <td>0</td>\n",
       "      <td>0</td>\n",
       "      <td>0</td>\n",
       "      <td>1</td>\n",
       "      <td>0</td>\n",
       "      <td>0</td>\n",
       "    </tr>\n",
       "    <tr>\n",
       "      <th>4</th>\n",
       "      <td>Liga ACB</td>\n",
       "      <td>Tenerife</td>\n",
       "      <td>Obradoiro</td>\n",
       "      <td>2013-10-12</td>\n",
       "      <td>Tenerife</td>\n",
       "      <td>Home</td>\n",
       "      <td>Regular Season</td>\n",
       "      <td>76-74</td>\n",
       "      <td>0.0</td>\n",
       "      <td>Tenerife</td>\n",
       "      <td>...</td>\n",
       "      <td>0.571429</td>\n",
       "      <td>48.6</td>\n",
       "      <td>2.0</td>\n",
       "      <td>0</td>\n",
       "      <td>0</td>\n",
       "      <td>0</td>\n",
       "      <td>0</td>\n",
       "      <td>1</td>\n",
       "      <td>0</td>\n",
       "      <td>0</td>\n",
       "    </tr>\n",
       "  </tbody>\n",
       "</table>\n",
       "<p>5 rows × 108 columns</p>\n",
       "</div>"
      ],
      "text/plain": [
       "      Tournament Home Team        Away Team Match Date Winner Team  \\\n",
       "0  Basket League      KAOD             Aris 2013-10-12        Aris   \n",
       "1  Basket League      PAOK  Kolossos Rhodes 2013-10-12        PAOK   \n",
       "2       Liga ACB    Bilbao         Zaragoza 2013-10-12    Zaragoza   \n",
       "3  Basket League   Trikala          Kifisia 2013-10-12     Kifisia   \n",
       "4       Liga ACB  Tenerife        Obradoiro 2013-10-12    Tenerife   \n",
       "\n",
       "  Winner Home Or Away           Phase Final Score  Extra Periods      Team  \\\n",
       "0                Away  Regular Season       58-66            0.0      KAOD   \n",
       "1                Home  Regular Season       88-81            0.0      PAOK   \n",
       "2                Away  Regular Season       77-86            0.0    Bilbao   \n",
       "3                Away  Regular Season       64-69            0.0   Trikala   \n",
       "4                Home  Regular Season       76-74            0.0  Tenerife   \n",
       "\n",
       "   ... opptSTL/TO  oppt_Game_Score  Points difference  Finals  Last 32  \\\n",
       "0  ...   0.571429             39.8               -8.0       0        0   \n",
       "1  ...   0.444444             46.3                7.0       0        0   \n",
       "2  ...   1.000000             70.0               -9.0       0        0   \n",
       "3  ...   0.250000             40.0               -5.0       0        0   \n",
       "4  ...   0.571429             48.6                2.0       0        0   \n",
       "\n",
       "   Playoffs  Quarter-Finals  Regular Season  Semifinals  Top 16  \n",
       "0         0               0               1           0       0  \n",
       "1         0               0               1           0       0  \n",
       "2         0               0               1           0       0  \n",
       "3         0               0               1           0       0  \n",
       "4         0               0               1           0       0  \n",
       "\n",
       "[5 rows x 108 columns]"
      ]
     },
     "execution_count": 3,
     "metadata": {},
     "output_type": "execute_result"
    }
   ],
   "source": [
    "data.head()"
   ]
  },
  {
   "cell_type": "markdown",
   "metadata": {},
   "source": [
    "### Oliver’s Four Factors means eight overall factors:\n",
    "\n",
    "\n",
    "* Offensive Factors\n",
    "    - Effective Field Goal Percentage\n",
    "    - Turnover Percentage\n",
    "    - Offensive Rebound Percentage\n",
    "    - Free Throw Rate\n",
    "* Defensive Factors\n",
    "    - Opponent’s Effective Field Goal Percentage\n",
    "    - Opponent’s Turnover Percentage\n",
    "    - Opponent’s Offensive Rebound Percentage\n",
    "    - Opponent’s Free Throw Rate\n"
   ]
  },
  {
   "cell_type": "markdown",
   "metadata": {},
   "source": [
    "# Greek Basket League"
   ]
  },
  {
   "cell_type": "code",
   "execution_count": 4,
   "metadata": {},
   "outputs": [
    {
     "name": "stdout",
     "output_type": "stream",
     "text": [
      "time:\n",
      "0.0738585\n"
     ]
    }
   ],
   "source": [
    "start = timer()\n",
    "if __name__ ==  '__main__':\n",
    "    pool = Pool(processes=6)  \n",
    "    greece_features = features_creation().run_features_creations(pool=pool,Data_Frame = data,\n",
    "                                                                             Tournament = \"Basket League\",\n",
    "                                                                             Date = \"2014-8-01\")\n",
    "    pool.close()\n",
    "    pool.terminate()\n",
    "    pool.join()\n",
    "end = timer()\n",
    "print (\"time:\")\n",
    "print ((end - start)/60)"
   ]
  },
  {
   "cell_type": "code",
   "execution_count": 5,
   "metadata": {},
   "outputs": [
    {
     "data": {
      "text/html": [
       "<div>\n",
       "<style scoped>\n",
       "    .dataframe tbody tr th:only-of-type {\n",
       "        vertical-align: middle;\n",
       "    }\n",
       "\n",
       "    .dataframe tbody tr th {\n",
       "        vertical-align: top;\n",
       "    }\n",
       "\n",
       "    .dataframe thead th {\n",
       "        text-align: right;\n",
       "    }\n",
       "</style>\n",
       "<table border=\"1\" class=\"dataframe\">\n",
       "  <thead>\n",
       "    <tr style=\"text-align: right;\">\n",
       "      <th></th>\n",
       "      <th>home_EFG%</th>\n",
       "      <th>home_TO%</th>\n",
       "      <th>home_OREB%</th>\n",
       "      <th>home_FTRate</th>\n",
       "      <th>away_EFG%</th>\n",
       "      <th>away_TO%</th>\n",
       "      <th>away_OREB%</th>\n",
       "      <th>away_FTRate</th>\n",
       "      <th>Team Result</th>\n",
       "    </tr>\n",
       "  </thead>\n",
       "  <tbody>\n",
       "    <tr>\n",
       "      <th>0</th>\n",
       "      <td>51.491269</td>\n",
       "      <td>15.333681</td>\n",
       "      <td>22.593132</td>\n",
       "      <td>0.736295</td>\n",
       "      <td>47.679526</td>\n",
       "      <td>15.005399</td>\n",
       "      <td>24.957344</td>\n",
       "      <td>0.714559</td>\n",
       "      <td>1.0</td>\n",
       "    </tr>\n",
       "    <tr>\n",
       "      <th>1</th>\n",
       "      <td>53.392916</td>\n",
       "      <td>15.384917</td>\n",
       "      <td>27.523827</td>\n",
       "      <td>0.661094</td>\n",
       "      <td>43.518186</td>\n",
       "      <td>14.525156</td>\n",
       "      <td>30.296659</td>\n",
       "      <td>0.640294</td>\n",
       "      <td>1.0</td>\n",
       "    </tr>\n",
       "    <tr>\n",
       "      <th>2</th>\n",
       "      <td>45.769466</td>\n",
       "      <td>21.686776</td>\n",
       "      <td>26.930714</td>\n",
       "      <td>0.687929</td>\n",
       "      <td>47.232598</td>\n",
       "      <td>18.759117</td>\n",
       "      <td>26.430274</td>\n",
       "      <td>0.732545</td>\n",
       "      <td>0.0</td>\n",
       "    </tr>\n",
       "    <tr>\n",
       "      <th>3</th>\n",
       "      <td>53.738395</td>\n",
       "      <td>15.286959</td>\n",
       "      <td>29.167086</td>\n",
       "      <td>0.667636</td>\n",
       "      <td>51.927985</td>\n",
       "      <td>17.605095</td>\n",
       "      <td>18.297129</td>\n",
       "      <td>0.750579</td>\n",
       "      <td>1.0</td>\n",
       "    </tr>\n",
       "    <tr>\n",
       "      <th>4</th>\n",
       "      <td>44.959301</td>\n",
       "      <td>13.118870</td>\n",
       "      <td>24.974233</td>\n",
       "      <td>0.729764</td>\n",
       "      <td>48.750853</td>\n",
       "      <td>17.421278</td>\n",
       "      <td>31.623343</td>\n",
       "      <td>0.669728</td>\n",
       "      <td>0.0</td>\n",
       "    </tr>\n",
       "  </tbody>\n",
       "</table>\n",
       "</div>"
      ],
      "text/plain": [
       "   home_EFG%   home_TO%  home_OREB%  home_FTRate  away_EFG%   away_TO%  \\\n",
       "0  51.491269  15.333681   22.593132     0.736295  47.679526  15.005399   \n",
       "1  53.392916  15.384917   27.523827     0.661094  43.518186  14.525156   \n",
       "2  45.769466  21.686776   26.930714     0.687929  47.232598  18.759117   \n",
       "3  53.738395  15.286959   29.167086     0.667636  51.927985  17.605095   \n",
       "4  44.959301  13.118870   24.974233     0.729764  48.750853  17.421278   \n",
       "\n",
       "   away_OREB%  away_FTRate  Team Result  \n",
       "0   24.957344     0.714559          1.0  \n",
       "1   30.296659     0.640294          1.0  \n",
       "2   26.430274     0.732545          0.0  \n",
       "3   18.297129     0.750579          1.0  \n",
       "4   31.623343     0.669728          0.0  "
      ]
     },
     "execution_count": 5,
     "metadata": {},
     "output_type": "execute_result"
    }
   ],
   "source": [
    "greece_features.head()"
   ]
  },
  {
   "cell_type": "code",
   "execution_count": 6,
   "metadata": {},
   "outputs": [],
   "source": [
    "x_greece = greece_features.iloc[:,:-1]\n",
    "y_greece = greece_features.iloc[:,-1]\n",
    "\n",
    "x1_greece = data[(data['Tournament'] ==\"Basket League\")&(data['Match Date'] >\"2014-8-01\")]"
   ]
  },
  {
   "cell_type": "code",
   "execution_count": 7,
   "metadata": {},
   "outputs": [
    {
     "data": {
      "text/html": [
       "<div>\n",
       "<style scoped>\n",
       "    .dataframe tbody tr th:only-of-type {\n",
       "        vertical-align: middle;\n",
       "    }\n",
       "\n",
       "    .dataframe tbody tr th {\n",
       "        vertical-align: top;\n",
       "    }\n",
       "\n",
       "    .dataframe thead th {\n",
       "        text-align: right;\n",
       "    }\n",
       "</style>\n",
       "<table border=\"1\" class=\"dataframe\">\n",
       "  <thead>\n",
       "    <tr style=\"text-align: right;\">\n",
       "      <th></th>\n",
       "      <th>index</th>\n",
       "      <th>Team Result</th>\n",
       "    </tr>\n",
       "  </thead>\n",
       "  <tbody>\n",
       "    <tr>\n",
       "      <th>8</th>\n",
       "      <td>Team Result</td>\n",
       "      <td>1.000000</td>\n",
       "    </tr>\n",
       "    <tr>\n",
       "      <th>0</th>\n",
       "      <td>home_EFG%</td>\n",
       "      <td>0.152342</td>\n",
       "    </tr>\n",
       "    <tr>\n",
       "      <th>2</th>\n",
       "      <td>home_OREB%</td>\n",
       "      <td>0.129894</td>\n",
       "    </tr>\n",
       "    <tr>\n",
       "      <th>5</th>\n",
       "      <td>away_TO%</td>\n",
       "      <td>0.112521</td>\n",
       "    </tr>\n",
       "    <tr>\n",
       "      <th>3</th>\n",
       "      <td>home_FTRate</td>\n",
       "      <td>-0.014841</td>\n",
       "    </tr>\n",
       "    <tr>\n",
       "      <th>7</th>\n",
       "      <td>away_FTRate</td>\n",
       "      <td>-0.096302</td>\n",
       "    </tr>\n",
       "    <tr>\n",
       "      <th>1</th>\n",
       "      <td>home_TO%</td>\n",
       "      <td>-0.143397</td>\n",
       "    </tr>\n",
       "    <tr>\n",
       "      <th>6</th>\n",
       "      <td>away_OREB%</td>\n",
       "      <td>-0.188759</td>\n",
       "    </tr>\n",
       "    <tr>\n",
       "      <th>4</th>\n",
       "      <td>away_EFG%</td>\n",
       "      <td>-0.241093</td>\n",
       "    </tr>\n",
       "  </tbody>\n",
       "</table>\n",
       "</div>"
      ],
      "text/plain": [
       "         index  Team Result\n",
       "8  Team Result     1.000000\n",
       "0    home_EFG%     0.152342\n",
       "2   home_OREB%     0.129894\n",
       "5     away_TO%     0.112521\n",
       "3  home_FTRate    -0.014841\n",
       "7  away_FTRate    -0.096302\n",
       "1     home_TO%    -0.143397\n",
       "6   away_OREB%    -0.188759\n",
       "4    away_EFG%    -0.241093"
      ]
     },
     "execution_count": 7,
     "metadata": {},
     "output_type": "execute_result"
    }
   ],
   "source": [
    "corr_df = greece_features.corr()['Team Result'].reset_index()\n",
    "corr_df = corr_df.sort_values([('Team Result')], ascending = False)\n",
    "corr_df"
   ]
  },
  {
   "cell_type": "code",
   "execution_count": 8,
   "metadata": {},
   "outputs": [],
   "source": [
    "x_train_greece=x_greece[:len(x1_greece[x1_greece[\"Match Date\"]<\"2017-8-1\"])]\n",
    "y_train_greece=y_greece.iloc[:len(x1_greece[x1_greece[\"Match Date\"]<\"2017-8-1\"])]\n",
    "x_test_greece=x_greece[len(x1_greece[x1_greece[\"Match Date\"]<\"2017-8-1\"]):]\n",
    "y_test_greece=y_greece.iloc[len(x1_greece[x1_greece[\"Match Date\"]<\"2017-8-1\"]):]"
   ]
  },
  {
   "cell_type": "code",
   "execution_count": 11,
   "metadata": {},
   "outputs": [
    {
     "name": "stdout",
     "output_type": "stream",
     "text": [
      "Test Accuracy: 0.75\n"
     ]
    }
   ],
   "source": [
    "lgr = LogisticRegression(random_state=1, max_iter=10000).fit(x_train_greece, y_train_greece)\n",
    "y_pre_lgr= lgr.predict(x_test_greece)\n",
    "print(\"Test Accuracy:\",round(accuracy_score(y_pre_lgr,y_test_greece),3))\n"
   ]
  },
  {
   "cell_type": "markdown",
   "metadata": {},
   "source": [
    "# Liga ACB"
   ]
  },
  {
   "cell_type": "code",
   "execution_count": 12,
   "metadata": {},
   "outputs": [
    {
     "name": "stdout",
     "output_type": "stream",
     "text": [
      "time:\n",
      "0.10089339\n"
     ]
    }
   ],
   "source": [
    "start = timer()\n",
    "if __name__ ==  '__main__':\n",
    "    pool = Pool(processes=6)  \n",
    "    spain_features = features_creation().run_features_creations(pool=pool,Data_Frame = data,\n",
    "                                                                             Tournament = \"Liga ACB\",\n",
    "                                                                             Date = \"2014-8-01\")\n",
    "    pool.close()\n",
    "    pool.terminate()\n",
    "    pool.join()\n",
    "end = timer()\n",
    "print (\"time:\")\n",
    "print ((end - start)/60)"
   ]
  },
  {
   "cell_type": "code",
   "execution_count": 13,
   "metadata": {},
   "outputs": [],
   "source": [
    "x_spain = spain_features.iloc[:,:-1]\n",
    "y_spain = spain_features.iloc[:,-1]\n",
    "\n",
    "x1_spain = data[(data['Tournament'] ==\"Liga ACB\")&(data['Match Date'] >\"2014-8-01\")]"
   ]
  },
  {
   "cell_type": "code",
   "execution_count": 15,
   "metadata": {},
   "outputs": [
    {
     "data": {
      "text/html": [
       "<div>\n",
       "<style scoped>\n",
       "    .dataframe tbody tr th:only-of-type {\n",
       "        vertical-align: middle;\n",
       "    }\n",
       "\n",
       "    .dataframe tbody tr th {\n",
       "        vertical-align: top;\n",
       "    }\n",
       "\n",
       "    .dataframe thead th {\n",
       "        text-align: right;\n",
       "    }\n",
       "</style>\n",
       "<table border=\"1\" class=\"dataframe\">\n",
       "  <thead>\n",
       "    <tr style=\"text-align: right;\">\n",
       "      <th></th>\n",
       "      <th>index</th>\n",
       "      <th>Team Result</th>\n",
       "    </tr>\n",
       "  </thead>\n",
       "  <tbody>\n",
       "    <tr>\n",
       "      <th>8</th>\n",
       "      <td>Team Result</td>\n",
       "      <td>1.000000</td>\n",
       "    </tr>\n",
       "    <tr>\n",
       "      <th>0</th>\n",
       "      <td>home_EFG%</td>\n",
       "      <td>0.199799</td>\n",
       "    </tr>\n",
       "    <tr>\n",
       "      <th>5</th>\n",
       "      <td>away_TO%</td>\n",
       "      <td>0.109327</td>\n",
       "    </tr>\n",
       "    <tr>\n",
       "      <th>2</th>\n",
       "      <td>home_OREB%</td>\n",
       "      <td>0.108891</td>\n",
       "    </tr>\n",
       "    <tr>\n",
       "      <th>3</th>\n",
       "      <td>home_FTRate</td>\n",
       "      <td>0.072428</td>\n",
       "    </tr>\n",
       "    <tr>\n",
       "      <th>7</th>\n",
       "      <td>away_FTRate</td>\n",
       "      <td>-0.036979</td>\n",
       "    </tr>\n",
       "    <tr>\n",
       "      <th>6</th>\n",
       "      <td>away_OREB%</td>\n",
       "      <td>-0.085816</td>\n",
       "    </tr>\n",
       "    <tr>\n",
       "      <th>1</th>\n",
       "      <td>home_TO%</td>\n",
       "      <td>-0.097952</td>\n",
       "    </tr>\n",
       "    <tr>\n",
       "      <th>4</th>\n",
       "      <td>away_EFG%</td>\n",
       "      <td>-0.175237</td>\n",
       "    </tr>\n",
       "  </tbody>\n",
       "</table>\n",
       "</div>"
      ],
      "text/plain": [
       "         index  Team Result\n",
       "8  Team Result     1.000000\n",
       "0    home_EFG%     0.199799\n",
       "5     away_TO%     0.109327\n",
       "2   home_OREB%     0.108891\n",
       "3  home_FTRate     0.072428\n",
       "7  away_FTRate    -0.036979\n",
       "6   away_OREB%    -0.085816\n",
       "1     home_TO%    -0.097952\n",
       "4    away_EFG%    -0.175237"
      ]
     },
     "execution_count": 15,
     "metadata": {},
     "output_type": "execute_result"
    }
   ],
   "source": [
    "corr_df = spain_features.corr()['Team Result'].reset_index()\n",
    "corr_df = corr_df.sort_values([('Team Result')], ascending = False)\n",
    "corr_df"
   ]
  },
  {
   "cell_type": "code",
   "execution_count": 16,
   "metadata": {},
   "outputs": [],
   "source": [
    "x_train_spain=x_spain[:len(x1_spain[x1_spain[\"Match Date\"]<\"2017-8-1\"])]\n",
    "y_train_spain=y_spain.iloc[:len(x1_spain[x1_spain[\"Match Date\"]<\"2017-8-1\"])]\n",
    "x_test_spain=x_spain[len(x1_spain[x1_spain[\"Match Date\"]<\"2017-8-1\"]):]\n",
    "y_test_spain=y_spain.iloc[len(x1_spain[x1_spain[\"Match Date\"]<\"2017-8-1\"]):]"
   ]
  },
  {
   "cell_type": "code",
   "execution_count": 17,
   "metadata": {},
   "outputs": [
    {
     "name": "stdout",
     "output_type": "stream",
     "text": [
      "Test Accuracy: 0.645\n"
     ]
    }
   ],
   "source": [
    "lgr = LogisticRegression(random_state=1, max_iter=10000).fit(x_train_spain, y_train_spain)\n",
    "y_pre_lgr= lgr.predict(x_test_spain)\n",
    "print(\"Test Accuracy:\",round(accuracy_score(y_pre_lgr,y_test_spain),3))"
   ]
  },
  {
   "cell_type": "markdown",
   "metadata": {},
   "source": [
    "# Euroleague"
   ]
  },
  {
   "cell_type": "code",
   "execution_count": 18,
   "metadata": {},
   "outputs": [
    {
     "name": "stdout",
     "output_type": "stream",
     "text": [
      "time:\n",
      "0.08436802333333351\n"
     ]
    }
   ],
   "source": [
    "start = timer()\n",
    "if __name__ ==  '__main__':\n",
    "    pool = Pool(processes=6)  \n",
    "    euroleague_features = features_creation().run_features_creations(pool=pool,Data_Frame = data,\n",
    "                                                                             Tournament = \"Euroleague\",\n",
    "                                                                             Date = \"2014-8-01\")\n",
    "    pool.close()\n",
    "    pool.terminate()\n",
    "    pool.join()\n",
    "end = timer()\n",
    "print (\"time:\")\n",
    "print ((end - start)/60)"
   ]
  },
  {
   "cell_type": "code",
   "execution_count": 19,
   "metadata": {},
   "outputs": [],
   "source": [
    "x_el = euroleague_features.iloc[:,:-1]\n",
    "y_el = euroleague_features.iloc[:,-1]\n",
    "\n",
    "x1_el = data[(data['Tournament'] ==\"Euroleague\")&(data['Match Date'] >\"2014-8-01\")]"
   ]
  },
  {
   "cell_type": "code",
   "execution_count": 20,
   "metadata": {},
   "outputs": [
    {
     "data": {
      "text/html": [
       "<div>\n",
       "<style scoped>\n",
       "    .dataframe tbody tr th:only-of-type {\n",
       "        vertical-align: middle;\n",
       "    }\n",
       "\n",
       "    .dataframe tbody tr th {\n",
       "        vertical-align: top;\n",
       "    }\n",
       "\n",
       "    .dataframe thead th {\n",
       "        text-align: right;\n",
       "    }\n",
       "</style>\n",
       "<table border=\"1\" class=\"dataframe\">\n",
       "  <thead>\n",
       "    <tr style=\"text-align: right;\">\n",
       "      <th></th>\n",
       "      <th>index</th>\n",
       "      <th>Team Result</th>\n",
       "    </tr>\n",
       "  </thead>\n",
       "  <tbody>\n",
       "    <tr>\n",
       "      <th>8</th>\n",
       "      <td>Team Result</td>\n",
       "      <td>1.000000</td>\n",
       "    </tr>\n",
       "    <tr>\n",
       "      <th>0</th>\n",
       "      <td>home_EFG%</td>\n",
       "      <td>0.094286</td>\n",
       "    </tr>\n",
       "    <tr>\n",
       "      <th>3</th>\n",
       "      <td>home_FTRate</td>\n",
       "      <td>0.033476</td>\n",
       "    </tr>\n",
       "    <tr>\n",
       "      <th>2</th>\n",
       "      <td>home_OREB%</td>\n",
       "      <td>0.020997</td>\n",
       "    </tr>\n",
       "    <tr>\n",
       "      <th>1</th>\n",
       "      <td>home_TO%</td>\n",
       "      <td>-0.020392</td>\n",
       "    </tr>\n",
       "    <tr>\n",
       "      <th>5</th>\n",
       "      <td>away_TO%</td>\n",
       "      <td>-0.031722</td>\n",
       "    </tr>\n",
       "    <tr>\n",
       "      <th>7</th>\n",
       "      <td>away_FTRate</td>\n",
       "      <td>-0.058639</td>\n",
       "    </tr>\n",
       "    <tr>\n",
       "      <th>6</th>\n",
       "      <td>away_OREB%</td>\n",
       "      <td>-0.081041</td>\n",
       "    </tr>\n",
       "    <tr>\n",
       "      <th>4</th>\n",
       "      <td>away_EFG%</td>\n",
       "      <td>-0.162858</td>\n",
       "    </tr>\n",
       "  </tbody>\n",
       "</table>\n",
       "</div>"
      ],
      "text/plain": [
       "         index  Team Result\n",
       "8  Team Result     1.000000\n",
       "0    home_EFG%     0.094286\n",
       "3  home_FTRate     0.033476\n",
       "2   home_OREB%     0.020997\n",
       "1     home_TO%    -0.020392\n",
       "5     away_TO%    -0.031722\n",
       "7  away_FTRate    -0.058639\n",
       "6   away_OREB%    -0.081041\n",
       "4    away_EFG%    -0.162858"
      ]
     },
     "execution_count": 20,
     "metadata": {},
     "output_type": "execute_result"
    }
   ],
   "source": [
    "corr_df =euroleague_features.corr()['Team Result'].reset_index()\n",
    "corr_df = corr_df.sort_values([('Team Result')], ascending = False)\n",
    "corr_df"
   ]
  },
  {
   "cell_type": "code",
   "execution_count": 21,
   "metadata": {},
   "outputs": [],
   "source": [
    "x_train_el=x_el[:len(x1_el[x1_el[\"Match Date\"]<\"2017-8-1\"])]\n",
    "y_train_el=y_el.iloc[:len(x1_el[x1_el[\"Match Date\"]<\"2017-8-1\"])]\n",
    "x_test_el=x_el[len(x1_el[x1_el[\"Match Date\"]<\"2017-8-1\"]):]\n",
    "y_test_el=y_el.iloc[len(x1_el[x1_el[\"Match Date\"]<\"2017-8-1\"]):]"
   ]
  },
  {
   "cell_type": "code",
   "execution_count": 22,
   "metadata": {},
   "outputs": [
    {
     "name": "stdout",
     "output_type": "stream",
     "text": [
      "Test Accuracy: 0.627\n"
     ]
    }
   ],
   "source": [
    "lgr = LogisticRegression(random_state=1, max_iter=10000).fit(x_train_el, y_train_el)\n",
    "y_pre_lgr= lgr.predict(x_test_el)\n",
    "print(\"Test Accuracy:\",round(accuracy_score(y_pre_lgr,y_test_el),3))"
   ]
  },
  {
   "cell_type": "markdown",
   "metadata": {},
   "source": [
    "# Eurocup"
   ]
  },
  {
   "cell_type": "code",
   "execution_count": 23,
   "metadata": {},
   "outputs": [
    {
     "name": "stdout",
     "output_type": "stream",
     "text": [
      "time:\n",
      "0.07766827166666654\n"
     ]
    }
   ],
   "source": [
    "start = timer()\n",
    "if __name__ ==  '__main__':\n",
    "    pool = Pool(processes=6)  \n",
    "    eurocup_features = features_creation().run_features_creations(pool=pool,Data_Frame = data,\n",
    "                                                                             Tournament = \"Eurocup\",\n",
    "                                                                             Date = \"2014-8-01\")\n",
    "    pool.close()\n",
    "    pool.terminate()\n",
    "    pool.join()\n",
    "end = timer()\n",
    "print (\"time:\")\n",
    "print ((end - start)/60)"
   ]
  },
  {
   "cell_type": "code",
   "execution_count": 24,
   "metadata": {},
   "outputs": [],
   "source": [
    "x_ec = eurocup_features.iloc[:,:-1]\n",
    "y_ec = eurocup_features.iloc[:,-1]\n",
    "\n",
    "x1_ec = data[(data['Tournament'] ==\"Eurocup\")&(data['Match Date'] >\"2014-8-01\")]"
   ]
  },
  {
   "cell_type": "code",
   "execution_count": 25,
   "metadata": {},
   "outputs": [
    {
     "data": {
      "text/html": [
       "<div>\n",
       "<style scoped>\n",
       "    .dataframe tbody tr th:only-of-type {\n",
       "        vertical-align: middle;\n",
       "    }\n",
       "\n",
       "    .dataframe tbody tr th {\n",
       "        vertical-align: top;\n",
       "    }\n",
       "\n",
       "    .dataframe thead th {\n",
       "        text-align: right;\n",
       "    }\n",
       "</style>\n",
       "<table border=\"1\" class=\"dataframe\">\n",
       "  <thead>\n",
       "    <tr style=\"text-align: right;\">\n",
       "      <th></th>\n",
       "      <th>index</th>\n",
       "      <th>Team Result</th>\n",
       "    </tr>\n",
       "  </thead>\n",
       "  <tbody>\n",
       "    <tr>\n",
       "      <th>8</th>\n",
       "      <td>Team Result</td>\n",
       "      <td>1.000000</td>\n",
       "    </tr>\n",
       "    <tr>\n",
       "      <th>5</th>\n",
       "      <td>away_TO%</td>\n",
       "      <td>0.026446</td>\n",
       "    </tr>\n",
       "    <tr>\n",
       "      <th>2</th>\n",
       "      <td>home_OREB%</td>\n",
       "      <td>0.016191</td>\n",
       "    </tr>\n",
       "    <tr>\n",
       "      <th>4</th>\n",
       "      <td>away_EFG%</td>\n",
       "      <td>-0.031412</td>\n",
       "    </tr>\n",
       "    <tr>\n",
       "      <th>7</th>\n",
       "      <td>away_FTRate</td>\n",
       "      <td>-0.035486</td>\n",
       "    </tr>\n",
       "    <tr>\n",
       "      <th>0</th>\n",
       "      <td>home_EFG%</td>\n",
       "      <td>-0.036308</td>\n",
       "    </tr>\n",
       "    <tr>\n",
       "      <th>3</th>\n",
       "      <td>home_FTRate</td>\n",
       "      <td>-0.041624</td>\n",
       "    </tr>\n",
       "    <tr>\n",
       "      <th>6</th>\n",
       "      <td>away_OREB%</td>\n",
       "      <td>-0.108612</td>\n",
       "    </tr>\n",
       "    <tr>\n",
       "      <th>1</th>\n",
       "      <td>home_TO%</td>\n",
       "      <td>-0.111494</td>\n",
       "    </tr>\n",
       "  </tbody>\n",
       "</table>\n",
       "</div>"
      ],
      "text/plain": [
       "         index  Team Result\n",
       "8  Team Result     1.000000\n",
       "5     away_TO%     0.026446\n",
       "2   home_OREB%     0.016191\n",
       "4    away_EFG%    -0.031412\n",
       "7  away_FTRate    -0.035486\n",
       "0    home_EFG%    -0.036308\n",
       "3  home_FTRate    -0.041624\n",
       "6   away_OREB%    -0.108612\n",
       "1     home_TO%    -0.111494"
      ]
     },
     "execution_count": 25,
     "metadata": {},
     "output_type": "execute_result"
    }
   ],
   "source": [
    "corr_df =eurocup_features.corr()['Team Result'].reset_index()\n",
    "corr_df = corr_df.sort_values([('Team Result')], ascending = False)\n",
    "corr_df"
   ]
  },
  {
   "cell_type": "code",
   "execution_count": 26,
   "metadata": {},
   "outputs": [],
   "source": [
    "x_train_ec=x_ec[:len(x1_ec[x1_ec[\"Match Date\"]<\"2017-8-1\"])]\n",
    "y_train_ec=y_ec.iloc[:len(x1_ec[x1_ec[\"Match Date\"]<\"2017-8-1\"])]\n",
    "x_test_ec=x_ec[len(x1_ec[x1_ec[\"Match Date\"]<\"2017-8-1\"]):]\n",
    "y_test_ec=y_ec.iloc[len(x1_ec[x1_ec[\"Match Date\"]<\"2017-8-1\"]):]"
   ]
  },
  {
   "cell_type": "code",
   "execution_count": 27,
   "metadata": {},
   "outputs": [
    {
     "name": "stdout",
     "output_type": "stream",
     "text": [
      "Test Accuracy: 0.62\n"
     ]
    }
   ],
   "source": [
    "lgr = LogisticRegression(random_state=1, max_iter=10000).fit(x_train_ec, y_train_ec)\n",
    "y_pre_lgr= lgr.predict(x_test_ec)\n",
    "print(\"Test Accuracy:\",round(accuracy_score(y_pre_lgr,y_test_ec),3))"
   ]
  }
 ],
 "metadata": {
  "kernelspec": {
   "display_name": "Python 3",
   "language": "python",
   "name": "python3"
  },
  "language_info": {
   "codemirror_mode": {
    "name": "ipython",
    "version": 3
   },
   "file_extension": ".py",
   "mimetype": "text/x-python",
   "name": "python",
   "nbconvert_exporter": "python",
   "pygments_lexer": "ipython3",
   "version": "3.8.5"
  }
 },
 "nbformat": 4,
 "nbformat_minor": 4
}
