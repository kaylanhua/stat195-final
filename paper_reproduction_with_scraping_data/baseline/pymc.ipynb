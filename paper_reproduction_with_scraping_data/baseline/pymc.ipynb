{
 "cells": [
  {
   "cell_type": "code",
   "execution_count": 1,
   "metadata": {},
   "outputs": [],
   "source": [
    "import numpy as np\n",
    "import pymc as pm\n",
    "from sklearn.ensemble import RandomForestClassifier\n",
    "from xgboost import XGBClassifier\n",
    "from sklearn.linear_model import LogisticRegression\n"
   ]
  },
  {
   "cell_type": "code",
   "execution_count": 17,
   "metadata": {},
   "outputs": [],
   "source": [
    "import numpy as np\n",
    "import pymc as pm\n",
    "from sklearn.ensemble import RandomForestClassifier\n",
    "from xgboost import XGBClassifier\n",
    "from sklearn.linear_model import LogisticRegression\n",
    "from sklearn.datasets import make_classification\n",
    "from sklearn.model_selection import train_test_split\n",
    "\n",
    "# Prepare data\n",
    "X, y = make_classification(n_samples=1000, n_features=20, random_state=42)\n",
    "X_train, X_test, y_train, y_test = train_test_split(X, y, test_size=0.2, random_state=42)\n"
   ]
  },
  {
   "cell_type": "code",
   "execution_count": 18,
   "metadata": {},
   "outputs": [],
   "source": [
    "# Initialize and train models\n",
    "rfc = RandomForestClassifier(random_state=42)\n",
    "rfc.fit(X_train, y_train)\n",
    "probs_rfc = rfc.predict_proba(X_test)[:, 1]\n",
    "\n",
    "xgb = XGBClassifier(random_state=42)\n",
    "xgb.fit(X_train, y_train)\n",
    "probs_xgb = xgb.predict_proba(X_test)[:, 1]\n",
    "\n",
    "lgr = LogisticRegression(random_state=42)\n",
    "lgr.fit(X_train, y_train)\n",
    "probs_lgr = lgr.predict_proba(X_test)[:, 1]\n"
   ]
  },
  {
   "cell_type": "code",
   "execution_count": 19,
   "metadata": {},
   "outputs": [
    {
     "name": "stderr",
     "output_type": "stream",
     "text": [
      "Auto-assigning NUTS sampler...\n",
      "Initializing NUTS using jitter+adapt_diag...\n",
      "Multiprocess sampling (4 chains in 4 jobs)\n",
      "NUTS: [weights]\n"
     ]
    },
    {
     "data": {
      "text/html": [
       "<pre style=\"white-space:pre;overflow-x:auto;line-height:normal;font-family:Menlo,'DejaVu Sans Mono',consolas,'Courier New',monospace\">/Users/kaylahuang/opt/anaconda3/envs/pymc_env/lib/python3.11/site-packages/rich/live.py:231: UserWarning: install \n",
       "\"ipywidgets\" for Jupyter support\n",
       "  warnings.warn('install \"ipywidgets\" for Jupyter support')\n",
       "</pre>\n"
      ],
      "text/plain": [
       "/Users/kaylahuang/opt/anaconda3/envs/pymc_env/lib/python3.11/site-packages/rich/live.py:231: UserWarning: install \n",
       "\"ipywidgets\" for Jupyter support\n",
       "  warnings.warn('install \"ipywidgets\" for Jupyter support')\n"
      ]
     },
     "metadata": {},
     "output_type": "display_data"
    },
    {
     "data": {
      "text/html": [
       "<pre style=\"white-space:pre;overflow-x:auto;line-height:normal;font-family:Menlo,'DejaVu Sans Mono',consolas,'Courier New',monospace\"></pre>\n"
      ],
      "text/plain": []
     },
     "metadata": {},
     "output_type": "display_data"
    },
    {
     "data": {
      "text/html": [
       "<pre style=\"white-space:pre;overflow-x:auto;line-height:normal;font-family:Menlo,'DejaVu Sans Mono',consolas,'Courier New',monospace\">\n",
       "</pre>\n"
      ],
      "text/plain": [
       "\n"
      ]
     },
     "metadata": {},
     "output_type": "display_data"
    },
    {
     "name": "stderr",
     "output_type": "stream",
     "text": [
      "Sampling 4 chains for 1_000 tune and 2_000 draw iterations (4_000 + 8_000 draws total) took 2 seconds.\n"
     ]
    },
    {
     "name": "stdout",
     "output_type": "stream",
     "text": [
      "                  mean     sd  hdi_3%  hdi_97%  mcse_mean  mcse_sd  ess_bulk  \\\n",
      "prediction[0]    0.854  0.036   0.786    0.919      0.000    0.000    5614.0   \n",
      "prediction[1]    0.906  0.027   0.855    0.954      0.000    0.000    4212.0   \n",
      "prediction[2]    0.163  0.045   0.086    0.253      0.001    0.000    5450.0   \n",
      "prediction[3]    0.938  0.016   0.908    0.967      0.000    0.000    5565.0   \n",
      "prediction[4]    0.989  0.004   0.981    0.996      0.000    0.000    4204.0   \n",
      "...                ...    ...     ...      ...        ...      ...       ...   \n",
      "prediction[198]  0.079  0.019   0.048    0.115      0.000    0.000    4704.0   \n",
      "prediction[199]  0.956  0.015   0.927    0.982      0.000    0.000    3788.0   \n",
      "weights[0]       0.334  0.158   0.039    0.613      0.003    0.002    3427.0   \n",
      "weights[1]       0.507  0.135   0.252    0.750      0.002    0.001    5148.0   \n",
      "weights[2]       0.160  0.114   0.000    0.364      0.002    0.001    3592.0   \n",
      "\n",
      "                 ess_tail  r_hat  \n",
      "prediction[0]      4285.0    1.0  \n",
      "prediction[1]      3815.0    1.0  \n",
      "prediction[2]      5199.0    1.0  \n",
      "prediction[3]      4112.0    1.0  \n",
      "prediction[4]      4855.0    1.0  \n",
      "...                   ...    ...  \n",
      "prediction[198]    5669.0    1.0  \n",
      "prediction[199]    2746.0    1.0  \n",
      "weights[0]         2041.0    1.0  \n",
      "weights[1]         3751.0    1.0  \n",
      "weights[2]         3228.0    1.0  \n",
      "\n",
      "[203 rows x 9 columns]\n"
     ]
    }
   ],
   "source": [
    "with pm.Model() as model:\n",
    "    # Priors for model weights\n",
    "    weights = pm.Dirichlet('weights', a=np.array([1., 1., 1.]))  # Uniform priors for simplicity\n",
    "\n",
    "    # Model predictions as deterministic functions of weights and individual model predictions\n",
    "    model_prediction = pm.Deterministic('prediction', weights[0] * probs_rfc + \n",
    "                                                     weights[1] * probs_xgb + \n",
    "                                                     weights[2] * probs_lgr)\n",
    "\n",
    "    # Likelihood (sampling distribution) of observations\n",
    "    observed = pm.Bernoulli('obs', p=model_prediction, observed=y_test)\n",
    "\n",
    "    # Posterior distribution\n",
    "    # trace = pm.sample(2000, return_inferencedata=False)\n",
    "    # Posterior distribution\n",
    "    trace = pm.sample(2000, return_inferencedata=True)\n",
    "\n",
    "\n",
    "# View the trace summary to inspect model performance and weight values\n",
    "print(pm.summary(trace))\n"
   ]
  },
  {
   "cell_type": "code",
   "execution_count": 46,
   "metadata": {},
   "outputs": [
    {
     "name": "stderr",
     "output_type": "stream",
     "text": [
      "Sampling: [obs]\n"
     ]
    },
    {
     "data": {
      "text/html": [
       "<pre style=\"white-space:pre;overflow-x:auto;line-height:normal;font-family:Menlo,'DejaVu Sans Mono',consolas,'Courier New',monospace\">/Users/kaylahuang/opt/anaconda3/envs/pymc_env/lib/python3.11/site-packages/rich/live.py:231: UserWarning: install \n",
       "\"ipywidgets\" for Jupyter support\n",
       "  warnings.warn('install \"ipywidgets\" for Jupyter support')\n",
       "</pre>\n"
      ],
      "text/plain": [
       "/Users/kaylahuang/opt/anaconda3/envs/pymc_env/lib/python3.11/site-packages/rich/live.py:231: UserWarning: install \n",
       "\"ipywidgets\" for Jupyter support\n",
       "  warnings.warn('install \"ipywidgets\" for Jupyter support')\n"
      ]
     },
     "metadata": {},
     "output_type": "display_data"
    },
    {
     "data": {
      "text/html": [
       "<pre style=\"white-space:pre;overflow-x:auto;line-height:normal;font-family:Menlo,'DejaVu Sans Mono',consolas,'Courier New',monospace\"></pre>\n"
      ],
      "text/plain": []
     },
     "metadata": {},
     "output_type": "display_data"
    },
    {
     "data": {
      "text/html": [
       "<pre style=\"white-space:pre;overflow-x:auto;line-height:normal;font-family:Menlo,'DejaVu Sans Mono',consolas,'Courier New',monospace\">\n",
       "</pre>\n"
      ],
      "text/plain": [
       "\n"
      ]
     },
     "metadata": {},
     "output_type": "display_data"
    },
    {
     "name": "stdout",
     "output_type": "stream",
     "text": [
      "2000\n"
     ]
    },
    {
     "data": {
      "text/plain": [
       "2000"
      ]
     },
     "execution_count": 46,
     "metadata": {},
     "output_type": "execute_result"
    }
   ],
   "source": [
    "with model:\n",
    "    ppc = pm.sample_posterior_predictive(trace)\n",
    "\n",
    "# print(ppc['posterior_predictive']['obs'])\n",
    "\n",
    "# # Obtain the mean prediction from the posterior predictive distribution\n",
    "mean_prediction = np.mean(ppc['posterior_predictive']['obs'], axis=0)\n",
    "print(len(mean_prediction))\n",
    "final_predictions = (mean_prediction > 0.5).astype(int)\n",
    "len(final_predictions)\n"
   ]
  },
  {
   "cell_type": "code",
   "execution_count": 52,
   "metadata": {},
   "outputs": [
    {
     "name": "stdout",
     "output_type": "stream",
     "text": [
      "<xarray.DataArray 'obs' (obs_dim_2: 200)> Size: 2kB\n",
      "array([1, 1, 0, 1, 1, 0, 0, 1, 1, 0, 1, 1, 0, 1, 0, 0, 0, 1, 1, 0, 1, 0,\n",
      "       0, 0, 1, 0, 1, 1, 0, 1, 0, 1, 1, 0, 0, 0, 0, 0, 0, 0, 0, 1, 0, 0,\n",
      "       1, 0, 1, 0, 0, 1, 0, 0, 0, 1, 1, 1, 0, 0, 1, 0, 1, 0, 0, 1, 1, 0,\n",
      "       1, 1, 1, 0, 0, 0, 0, 0, 0, 1, 0, 1, 1, 0, 0, 0, 0, 1, 1, 1, 0, 0,\n",
      "       0, 0, 1, 0, 0, 0, 1, 0, 1, 0, 1, 0, 1, 1, 0, 0, 1, 0, 1, 0, 0, 0,\n",
      "       0, 0, 0, 1, 0, 1, 1, 0, 1, 0, 1, 1, 0, 0, 1, 1, 1, 0, 0, 0, 0, 1,\n",
      "       1, 0, 1, 1, 1, 1, 0, 1, 0, 0, 1, 1, 0, 1, 1, 0, 0, 1, 1, 1, 0, 0,\n",
      "       1, 0, 1, 1, 0, 0, 0, 1, 1, 0, 1, 0, 1, 1, 1, 0, 0, 0, 0, 1, 0, 1,\n",
      "       1, 1, 1, 0, 1, 1, 0, 1, 1, 1, 0, 0, 0, 1, 0, 1, 0, 1, 1, 1, 1, 1,\n",
      "       0, 1])\n",
      "Coordinates:\n",
      "  * obs_dim_2  (obs_dim_2) int64 2kB 0 1 2 3 4 5 6 ... 194 195 196 197 198 199\n"
     ]
    }
   ],
   "source": [
    "mp = np.mean(mean_prediction, axis=0)\n",
    "len(mp)\n",
    "\n",
    "final_predictions = (mp > 0.5).astype(int)\n",
    "print(final_predictions)\n"
   ]
  },
  {
   "cell_type": "code",
   "execution_count": 53,
   "metadata": {},
   "outputs": [
    {
     "name": "stdout",
     "output_type": "stream",
     "text": [
      "Accuracy: 0.905\n",
      "F1 Score: 0.9064039408866995\n"
     ]
    }
   ],
   "source": [
    "from sklearn.metrics import accuracy_score, f1_score\n",
    "\n",
    "print(\"Accuracy:\", accuracy_score(y_test, final_predictions))\n",
    "print(\"F1 Score:\", f1_score(y_test, final_predictions))\n"
   ]
  },
  {
   "cell_type": "code",
   "execution_count": null,
   "metadata": {},
   "outputs": [],
   "source": []
  }
 ],
 "metadata": {
  "kernelspec": {
   "display_name": "pymc_env",
   "language": "python",
   "name": "python3"
  },
  "language_info": {
   "codemirror_mode": {
    "name": "ipython",
    "version": 3
   },
   "file_extension": ".py",
   "mimetype": "text/x-python",
   "name": "python",
   "nbconvert_exporter": "python",
   "pygments_lexer": "ipython3",
   "version": "3.11.9"
  }
 },
 "nbformat": 4,
 "nbformat_minor": 2
}
