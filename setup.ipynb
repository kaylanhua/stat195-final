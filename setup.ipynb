{
 "cells": [
  {
   "cell_type": "code",
   "execution_count": 6,
   "metadata": {},
   "outputs": [
    {
     "name": "stdout",
     "output_type": "stream",
     "text": [
      "Requirement already satisfied: fuzzywuzzy==0.18.0 in /Users/kaylahuang/opt/anaconda3/envs/pymc_env/lib/python3.11/site-packages (from -r requirement.txt (line 3)) (0.18.0)\n",
      "Requirement already satisfied: matplotlib in /Users/kaylahuang/opt/anaconda3/envs/pymc_env/lib/python3.11/site-packages (from -r requirement.txt (line 4)) (3.8.4)\n",
      "Requirement already satisfied: networkx==2.5 in /Users/kaylahuang/opt/anaconda3/envs/pymc_env/lib/python3.11/site-packages (from -r requirement.txt (line 5)) (2.5)\n",
      "Requirement already satisfied: numpy in /Users/kaylahuang/opt/anaconda3/envs/pymc_env/lib/python3.11/site-packages (from -r requirement.txt (line 6)) (1.26.4)\n",
      "Requirement already satisfied: openpyxl==3.0.6 in /Users/kaylahuang/opt/anaconda3/envs/pymc_env/lib/python3.11/site-packages (from -r requirement.txt (line 7)) (3.0.6)\n",
      "Requirement already satisfied: pandas in /Users/kaylahuang/opt/anaconda3/envs/pymc_env/lib/python3.11/site-packages (from -r requirement.txt (line 8)) (1.2.2)\n",
      "Requirement already satisfied: scikit-learn in /Users/kaylahuang/opt/anaconda3/envs/pymc_env/lib/python3.11/site-packages (from -r requirement.txt (line 9)) (1.4.2)\n",
      "Requirement already satisfied: tqdm==4.56.2 in /Users/kaylahuang/opt/anaconda3/envs/pymc_env/lib/python3.11/site-packages (from -r requirement.txt (line 10)) (4.56.2)\n",
      "Requirement already satisfied: wikipedia in /Users/kaylahuang/opt/anaconda3/envs/pymc_env/lib/python3.11/site-packages (from -r requirement.txt (line 11)) (1.4.0)\n",
      "Requirement already satisfied: xgboost in /Users/kaylahuang/opt/anaconda3/envs/pymc_env/lib/python3.11/site-packages (from -r requirement.txt (line 12)) (2.0.3)\n",
      "Requirement already satisfied: xlrd in /Users/kaylahuang/opt/anaconda3/envs/pymc_env/lib/python3.11/site-packages (from -r requirement.txt (line 13)) (2.0.1)\n",
      "Requirement already satisfied: decorator>=4.3.0 in /Users/kaylahuang/opt/anaconda3/envs/pymc_env/lib/python3.11/site-packages (from networkx==2.5->-r requirement.txt (line 5)) (5.1.1)\n",
      "Requirement already satisfied: jdcal in /Users/kaylahuang/opt/anaconda3/envs/pymc_env/lib/python3.11/site-packages (from openpyxl==3.0.6->-r requirement.txt (line 7)) (1.4.1)\n",
      "Requirement already satisfied: et-xmlfile in /Users/kaylahuang/opt/anaconda3/envs/pymc_env/lib/python3.11/site-packages (from openpyxl==3.0.6->-r requirement.txt (line 7)) (1.1.0)\n",
      "Requirement already satisfied: contourpy>=1.0.1 in /Users/kaylahuang/opt/anaconda3/envs/pymc_env/lib/python3.11/site-packages (from matplotlib->-r requirement.txt (line 4)) (1.2.1)\n",
      "Requirement already satisfied: cycler>=0.10 in /Users/kaylahuang/opt/anaconda3/envs/pymc_env/lib/python3.11/site-packages (from matplotlib->-r requirement.txt (line 4)) (0.12.1)\n",
      "Requirement already satisfied: fonttools>=4.22.0 in /Users/kaylahuang/opt/anaconda3/envs/pymc_env/lib/python3.11/site-packages (from matplotlib->-r requirement.txt (line 4)) (4.51.0)\n",
      "Requirement already satisfied: kiwisolver>=1.3.1 in /Users/kaylahuang/opt/anaconda3/envs/pymc_env/lib/python3.11/site-packages (from matplotlib->-r requirement.txt (line 4)) (1.4.5)\n",
      "Requirement already satisfied: packaging>=20.0 in /Users/kaylahuang/opt/anaconda3/envs/pymc_env/lib/python3.11/site-packages (from matplotlib->-r requirement.txt (line 4)) (24.0)\n",
      "Requirement already satisfied: pillow>=8 in /Users/kaylahuang/opt/anaconda3/envs/pymc_env/lib/python3.11/site-packages (from matplotlib->-r requirement.txt (line 4)) (10.3.0)\n",
      "Requirement already satisfied: pyparsing>=2.3.1 in /Users/kaylahuang/opt/anaconda3/envs/pymc_env/lib/python3.11/site-packages (from matplotlib->-r requirement.txt (line 4)) (3.1.2)\n",
      "Requirement already satisfied: python-dateutil>=2.7 in /Users/kaylahuang/opt/anaconda3/envs/pymc_env/lib/python3.11/site-packages (from matplotlib->-r requirement.txt (line 4)) (2.9.0)\n",
      "Requirement already satisfied: pytz>=2017.3 in /Users/kaylahuang/opt/anaconda3/envs/pymc_env/lib/python3.11/site-packages (from pandas->-r requirement.txt (line 8)) (2024.1)\n",
      "Requirement already satisfied: scipy>=1.6.0 in /Users/kaylahuang/opt/anaconda3/envs/pymc_env/lib/python3.11/site-packages (from scikit-learn->-r requirement.txt (line 9)) (1.13.0)\n",
      "Requirement already satisfied: joblib>=1.2.0 in /Users/kaylahuang/opt/anaconda3/envs/pymc_env/lib/python3.11/site-packages (from scikit-learn->-r requirement.txt (line 9)) (1.4.0)\n",
      "Requirement already satisfied: threadpoolctl>=2.0.0 in /Users/kaylahuang/opt/anaconda3/envs/pymc_env/lib/python3.11/site-packages (from scikit-learn->-r requirement.txt (line 9)) (3.4.0)\n",
      "Requirement already satisfied: beautifulsoup4 in /Users/kaylahuang/opt/anaconda3/envs/pymc_env/lib/python3.11/site-packages (from wikipedia->-r requirement.txt (line 11)) (4.12.3)\n",
      "Requirement already satisfied: requests<3.0.0,>=2.0.0 in /Users/kaylahuang/opt/anaconda3/envs/pymc_env/lib/python3.11/site-packages (from wikipedia->-r requirement.txt (line 11)) (2.31.0)\n",
      "Requirement already satisfied: six>=1.5 in /Users/kaylahuang/opt/anaconda3/envs/pymc_env/lib/python3.11/site-packages (from python-dateutil>=2.7->matplotlib->-r requirement.txt (line 4)) (1.16.0)\n",
      "Requirement already satisfied: charset-normalizer<4,>=2 in /Users/kaylahuang/opt/anaconda3/envs/pymc_env/lib/python3.11/site-packages (from requests<3.0.0,>=2.0.0->wikipedia->-r requirement.txt (line 11)) (3.3.2)\n",
      "Requirement already satisfied: idna<4,>=2.5 in /Users/kaylahuang/opt/anaconda3/envs/pymc_env/lib/python3.11/site-packages (from requests<3.0.0,>=2.0.0->wikipedia->-r requirement.txt (line 11)) (3.7)\n",
      "Requirement already satisfied: urllib3<3,>=1.21.1 in /Users/kaylahuang/opt/anaconda3/envs/pymc_env/lib/python3.11/site-packages (from requests<3.0.0,>=2.0.0->wikipedia->-r requirement.txt (line 11)) (2.2.1)\n",
      "Requirement already satisfied: certifi>=2017.4.17 in /Users/kaylahuang/opt/anaconda3/envs/pymc_env/lib/python3.11/site-packages (from requests<3.0.0,>=2.0.0->wikipedia->-r requirement.txt (line 11)) (2024.2.2)\n",
      "Requirement already satisfied: soupsieve>1.2 in /Users/kaylahuang/opt/anaconda3/envs/pymc_env/lib/python3.11/site-packages (from beautifulsoup4->wikipedia->-r requirement.txt (line 11)) (2.5)\n",
      "Note: you may need to restart the kernel to use updated packages.\n"
     ]
    }
   ],
   "source": [
    "%pip install -r requirement.txt"
   ]
  },
  {
   "cell_type": "code",
   "execution_count": 4,
   "metadata": {},
   "outputs": [
    {
     "name": "stdout",
     "output_type": "stream",
     "text": [
      "Found existing installation: matplotlib 3.3.4\n",
      "Uninstalling matplotlib-3.3.4:\n",
      "  Would remove:\n",
      "    /Users/kaylahuang/opt/anaconda3/envs/pymc_env/lib/python3.11/site-packages/matplotlib-3.3.4-py3.11-nspkg.pth\n",
      "    /Users/kaylahuang/opt/anaconda3/envs/pymc_env/lib/python3.11/site-packages/matplotlib-3.3.4.dist-info/*\n",
      "    /Users/kaylahuang/opt/anaconda3/envs/pymc_env/lib/python3.11/site-packages/matplotlib/*\n",
      "    /Users/kaylahuang/opt/anaconda3/envs/pymc_env/lib/python3.11/site-packages/mpl_toolkits/axes_grid/*\n",
      "    /Users/kaylahuang/opt/anaconda3/envs/pymc_env/lib/python3.11/site-packages/mpl_toolkits/axes_grid1/*\n",
      "    /Users/kaylahuang/opt/anaconda3/envs/pymc_env/lib/python3.11/site-packages/mpl_toolkits/axisartist/*\n",
      "    /Users/kaylahuang/opt/anaconda3/envs/pymc_env/lib/python3.11/site-packages/mpl_toolkits/mplot3d/*\n",
      "    /Users/kaylahuang/opt/anaconda3/envs/pymc_env/lib/python3.11/site-packages/mpl_toolkits/tests/*\n",
      "    /Users/kaylahuang/opt/anaconda3/envs/pymc_env/lib/python3.11/site-packages/pylab.py\n",
      "Proceed (Y/n)? ^C\n",
      "\u001b[31mERROR: Operation cancelled by user\u001b[0m\u001b[31m\n",
      "\u001b[0mNote: you may need to restart the kernel to use updated packages.\n"
     ]
    }
   ],
   "source": []
  },
  {
   "cell_type": "code",
   "execution_count": null,
   "metadata": {},
   "outputs": [],
   "source": []
  }
 ],
 "metadata": {
  "kernelspec": {
   "display_name": "stat195",
   "language": "python",
   "name": "python3"
  },
  "language_info": {
   "codemirror_mode": {
    "name": "ipython",
    "version": 3
   },
   "file_extension": ".py",
   "mimetype": "text/x-python",
   "name": "python",
   "nbconvert_exporter": "python",
   "pygments_lexer": "ipython3",
   "version": "3.11.9"
  }
 },
 "nbformat": 4,
 "nbformat_minor": 2
}
